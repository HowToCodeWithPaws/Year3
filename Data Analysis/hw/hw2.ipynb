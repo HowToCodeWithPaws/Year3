{
 "cells": [
  {
   "cell_type": "markdown",
   "metadata": {},
   "source": [
    "# HSE 2021: Mathematical Methods for Data Analysis\n",
    "\n",
    "## Homework 2\n",
    "\n",
    "### Attention!\n",
    "* For tasks where <ins>text answer</ins> is required **Russian language** is **allowed**.\n",
    "* If a task asks you to describe something (make coclusions) then **text answer** is **mandatory** and **is** part of the task\n",
    "* We **only** accept **ipynb** notebooks. If you use Google Colab then you'll have to download the notebook before passing the homework\n",
    "* **Do not** use python loops instead of NumPy vector operations over NumPy vectors - it significantly decreases performance (see why https://blog.paperspace.com/numpy-optimization-vectorization-and-broadcasting/), will be punished with -0.25 for **every** task. "
   ]
  },
  {
   "cell_type": "code",
   "execution_count": 1,
   "metadata": {
    "ExecuteTime": {
     "end_time": "2020-09-26T16:48:20.566549Z",
     "start_time": "2020-09-26T16:48:19.893995Z"
    }
   },
   "outputs": [],
   "source": [
    "import pandas as pd\n",
    "import numpy as np\n",
    "import matplotlib.pyplot as plt\n",
    "import seaborn as sns\n",
    "import sklearn\n",
    "from sklearn import datasets\n",
    "from sklearn.datasets import load_boston\n",
    "\n",
    "%matplotlib inline\n",
    "\n",
    "sns.set(style = \"darkgrid\")"
   ]
  },
  {
   "cell_type": "code",
   "execution_count": 106,
   "metadata": {},
   "outputs": [],
   "source": [
    "from sklearn.model_selection import train_test_split\n",
    "from sklearn.preprocessing import StandardScaler\n",
    "from sklearn.metrics import mean_squared_error, r2_score\n",
    "import statsmodels.api as sm\n",
    "import sys\n",
    "from sklearn.model_selection import GridSearchCV\n",
    "from sklearn.linear_model import Ridge\n",
    "import math as math"
   ]
  },
  {
   "cell_type": "markdown",
   "metadata": {},
   "source": [
    "### Data\n",
    "\n",
    "For this homework we use Boston Dataset from sklearn (based on UCI ML housing dataset)."
   ]
  },
  {
   "cell_type": "code",
   "execution_count": 3,
   "metadata": {},
   "outputs": [],
   "source": [
    "data = load_boston() # load dataset\n",
    "\n",
    "X = data.data\n",
    "y = data.target\n",
    "columns = data.feature_names"
   ]
  },
  {
   "cell_type": "markdown",
   "metadata": {},
   "source": [
    "## Linear regression"
   ]
  },
  {
   "cell_type": "markdown",
   "metadata": {},
   "source": [
    "#### 1. [0.5 points] \n",
    "Create Pandas DataFrame and split the data into train and test sets with ratio 80:20 with random_state=0."
   ]
  },
  {
   "cell_type": "code",
   "execution_count": 4,
   "metadata": {},
   "outputs": [
    {
     "name": "stdout",
     "output_type": "stream",
     "text": [
      "x training set length is 404\n",
      "x testing set length is 102\n",
      "y training set length is 404\n",
      "y testing set length is 102\n"
     ]
    }
   ],
   "source": [
    "X_dataframe = pd.DataFrame(X, columns = columns)\n",
    "X_train, X_test, y_train, y_test = train_test_split(X_dataframe, y, test_size = 0.2, random_state = 0)\n",
    "print(f'x training set length is {len(X_train)}')\n",
    "print(f'x testing set length is {len(X_test)}')\n",
    "print(f'y training set length is {len(y_train)}')\n",
    "print(f'y testing set length is {len(y_test)}')"
   ]
  },
  {
   "cell_type": "markdown",
   "metadata": {},
   "source": [
    "---\n",
    "#### 2. [1 point] \n",
    "Train models on train data using StatsModels( or sckit-learn) library and apply it to the test set; use $RMSE$ and $R^2$ as the quality measure.\n",
    "\n",
    "* [`LinearRegression`](http://scikit-learn.org/stable/modules/generated/sklearn.linear_model.LinearRegression.html);\n",
    "* [`Ridge`](http://scikit-learn.org/stable/modules/generated/sklearn.linear_model.Ridge.html) with $\\alpha = 0.01$;\n",
    "* [`Lasso`](http://scikit-learn.org/stable/modules/generated/sklearn.linear_model.Lasso.html) with $\\alpha = 0.01$\n",
    "\n",
    "Don't forget to scale the data before training the models with StandardScaler!"
   ]
  },
  {
   "cell_type": "code",
   "execution_count": 143,
   "metadata": {},
   "outputs": [
    {
     "name": "stdout",
     "output_type": "stream",
     "text": [
      "RMSE for linear regression is 5.783509315085141\n",
      "RMSE for ridge is 5.783509315085141\n",
      "RMSE for lasso is 5.784640655018173\n",
      "\n",
      "R2_Score for linear regression is 0.5892223849182501\n",
      "R2_Score for ridge is 0.5892223849182501\n",
      "R2_Score for lasso is 0.5890616608498134\n"
     ]
    }
   ],
   "source": [
    "scaler = StandardScaler()\n",
    "scaler.fit(X_train)\n",
    "\n",
    "scaled_X_train = scaler.transform(X_train)\n",
    "scaled_X_train = sm.add_constant(scaled_X_train)\n",
    "\n",
    "scaled_X_test = scaler.transform(X_test)\n",
    "scaled_X_test = sm.add_constant(scaled_X_test)\n",
    "\n",
    "linearReg = sm.OLS(y_train, scaled_X_train)\n",
    "ridge = sm.OLS(y_train, scaled_X_train)\n",
    "lasso = sm.OLS(y_train, scaled_X_train)\n",
    "\n",
    "trained_lin = linearReg.fit()\n",
    "trained_rid = ridge.fit_regularized(alpha=0.01, L1_wt=2*sys.float_info.epsilon, refit = True)\n",
    "trained_las = lasso.fit_regularized(alpha=0.01, L1_wt=1, refit = True)\n",
    "\n",
    "prediction_lin = trained_lin.predict(scaled_X_test)\n",
    "prediction_rid = trained_rid.predict(scaled_X_test)\n",
    "prediction_las = trained_las.predict(scaled_X_test)\n",
    "\n",
    "lin_rmse = mean_squared_error(y_test, prediction_lin, squared=False)\n",
    "rid_rmse = mean_squared_error(y_test, prediction_rid, squared=False)\n",
    "las_rmse = mean_squared_error(y_test, prediction_las, squared=False)\n",
    "lin_r2_score = r2_score(y_test, prediction_lin)\n",
    "rid_r2_score = r2_score(y_test, prediction_rid)\n",
    "las_r2_score = r2_score(y_test, prediction_las)\n",
    "\n",
    "print(f'RMSE for linear regression is {lin_rmse}')\n",
    "print(f'RMSE for ridge is {rid_rmse}')\n",
    "print(f'RMSE for lasso is {las_rmse}')\n",
    "print()\n",
    "print(f'R2_Score for linear regression is {lin_r2_score}')\n",
    "print(f'R2_Score for ridge is {rid_r2_score}')\n",
    "print(f'R2_Score for lasso is {las_r2_score}')"
   ]
  },
  {
   "cell_type": "markdown",
   "metadata": {},
   "source": [
    "---\n",
    "#### 3. [1 point] \n",
    "Explore the values of the parameters of the resulting models and compare the number of zero weights in them. \n",
    "\n",
    "Comment on the significance of the coefficients, overal model significance and other related factors from the results table. \n",
    "\n",
    "`Hint` Use StatModels to obtain significance of the coefficients. They ca be found on the `summary` of the fitted linear model. \n",
    "It might be tricky to obtain `summary` for the regularized model. Please, read the documentation of the StatModels library to figure out how to do that, e.g.   [OLSResults](https://www.statsmodels.org/stable/generated/statsmodels.regression.linear_model.OLSResults.html#statsmodels.regression.linear_model.OLSResults) class might be useful here."
   ]
  },
  {
   "cell_type": "code",
   "execution_count": 6,
   "metadata": {},
   "outputs": [
    {
     "name": "stdout",
     "output_type": "stream",
     "text": [
      "summary for linear regression                             OLS Regression Results                            \n",
      "==============================================================================\n",
      "Dep. Variable:                      y   R-squared:                       0.773\n",
      "Model:                            OLS   Adj. R-squared:                  0.765\n",
      "Method:                 Least Squares   F-statistic:                     102.2\n",
      "Date:                Sat, 09 Oct 2021   Prob (F-statistic):          9.64e-117\n",
      "Time:                        21:12:32   Log-Likelihood:                -1171.5\n",
      "No. Observations:                 404   AIC:                             2371.\n",
      "Df Residuals:                     390   BIC:                             2427.\n",
      "Df Model:                          13                                         \n",
      "Covariance Type:            nonrobust                                         \n",
      "==============================================================================\n",
      "                 coef    std err          t      P>|t|      [0.025      0.975]\n",
      "------------------------------------------------------------------------------\n",
      "const         22.6119      0.223    101.576      0.000      22.174      23.050\n",
      "x1            -0.9708      0.298     -3.257      0.001      -1.557      -0.385\n",
      "x2             1.0571      0.341      3.102      0.002       0.387       1.727\n",
      "x3             0.0383      0.443      0.087      0.931      -0.832       0.909\n",
      "x4             0.5945      0.229      2.595      0.010       0.144       1.045\n",
      "x5            -1.8551      0.485     -3.828      0.000      -2.808      -0.902\n",
      "x6             2.5732      0.317      8.106      0.000       1.949       3.197\n",
      "x7            -0.0876      0.402     -0.218      0.828      -0.878       0.703\n",
      "x8            -2.8809      0.445     -6.480      0.000      -3.755      -2.007\n",
      "x9             2.1122      0.607      3.481      0.001       0.919       3.305\n",
      "x10           -1.8753      0.665     -2.819      0.005      -3.183      -0.567\n",
      "x11           -2.2928      0.300     -7.636      0.000      -2.883      -1.702\n",
      "x12            0.7182      0.261      2.749      0.006       0.204       1.232\n",
      "x13           -3.5925      0.395     -9.086      0.000      -4.370      -2.815\n",
      "==============================================================================\n",
      "Omnibus:                      141.494   Durbin-Watson:                   1.996\n",
      "Prob(Omnibus):                  0.000   Jarque-Bera (JB):              629.882\n",
      "Skew:                           1.470   Prob(JB):                    1.67e-137\n",
      "Kurtosis:                       8.365   Cond. No.                         9.81\n",
      "==============================================================================\n",
      "\n",
      "Notes:\n",
      "[1] Standard Errors assume that the covariance matrix of the errors is correctly specified.\n",
      "\n",
      "\n",
      "summary for ridge                             OLS Regression Results                            \n",
      "==============================================================================\n",
      "Dep. Variable:                      y   R-squared:                       0.773\n",
      "Model:                            OLS   Adj. R-squared:                  0.765\n",
      "Method:                 Least Squares   F-statistic:                     94.87\n",
      "Date:                Sat, 09 Oct 2021   Prob (F-statistic):          4.81e-116\n",
      "Time:                        21:12:32   Log-Likelihood:                -1171.5\n",
      "No. Observations:                 404   AIC:                             2373.\n",
      "Df Residuals:                     390   BIC:                             2433.\n",
      "Df Model:                          14                                         \n",
      "Covariance Type:            nonrobust                                         \n",
      "==============================================================================\n",
      "                 coef    std err          t      P>|t|      [0.025      0.975]\n",
      "------------------------------------------------------------------------------\n",
      "const         22.6119      0.223    101.576      0.000      22.174      23.050\n",
      "x1            -0.9708      0.298     -3.257      0.001      -1.557      -0.385\n",
      "x2             1.0571      0.341      3.102      0.002       0.387       1.727\n",
      "x3             0.0383      0.443      0.087      0.931      -0.832       0.909\n",
      "x4             0.5945      0.229      2.595      0.010       0.144       1.045\n",
      "x5            -1.8551      0.485     -3.828      0.000      -2.808      -0.902\n",
      "x6             2.5732      0.317      8.106      0.000       1.949       3.197\n",
      "x7            -0.0876      0.402     -0.218      0.828      -0.878       0.703\n",
      "x8            -2.8809      0.445     -6.480      0.000      -3.755      -2.007\n",
      "x9             2.1122      0.607      3.481      0.001       0.919       3.305\n",
      "x10           -1.8753      0.665     -2.819      0.005      -3.183      -0.567\n",
      "x11           -2.2928      0.300     -7.636      0.000      -2.883      -1.702\n",
      "x12            0.7182      0.261      2.749      0.006       0.204       1.232\n",
      "x13           -3.5925      0.395     -9.086      0.000      -4.370      -2.815\n",
      "==============================================================================\n",
      "Omnibus:                      141.494   Durbin-Watson:                   1.996\n",
      "Prob(Omnibus):                  0.000   Jarque-Bera (JB):              629.882\n",
      "Skew:                           1.470   Prob(JB):                    1.67e-137\n",
      "Kurtosis:                       8.365   Cond. No.                         9.81\n",
      "==============================================================================\n",
      "\n",
      "Notes:\n",
      "[1] Standard Errors assume that the covariance matrix of the errors is correctly specified.\n",
      "\n",
      "\n",
      "summary for lasso                             OLS Regression Results                            \n",
      "==============================================================================\n",
      "Dep. Variable:                      y   R-squared:                       0.773\n",
      "Model:                            OLS   Adj. R-squared:                  0.766\n",
      "Method:                 Least Squares   F-statistic:                     102.4\n",
      "Date:                Sat, 09 Oct 2021   Prob (F-statistic):          4.67e-117\n",
      "Time:                        21:12:32   Log-Likelihood:                -1171.5\n",
      "No. Observations:                 404   AIC:                             2371.\n",
      "Df Residuals:                     391   BIC:                             2427.\n",
      "Df Model:                          13                                         \n",
      "Covariance Type:            nonrobust                                         \n",
      "==============================================================================\n",
      "                 coef    std err          t      P>|t|      [0.025      0.975]\n",
      "------------------------------------------------------------------------------\n",
      "const         22.6119      0.222    101.706      0.000      22.175      23.049\n",
      "x1            -0.9718      0.297     -3.267      0.001      -1.557      -0.387\n",
      "x2             1.0546      0.339      3.110      0.002       0.388       1.721\n",
      "x3                  0          0        nan        nan           0           0\n",
      "x4             0.5963      0.228      2.616      0.009       0.148       1.044\n",
      "x5            -1.8443      0.468     -3.944      0.000      -2.764      -0.925\n",
      "x6             2.5707      0.316      8.142      0.000       1.950       3.191\n",
      "x7            -0.0883      0.402     -0.220      0.826      -0.878       0.701\n",
      "x8            -2.8894      0.433     -6.671      0.000      -3.741      -2.038\n",
      "x9             2.0956      0.575      3.646      0.000       0.965       3.226\n",
      "x10           -1.8489      0.590     -3.133      0.002      -3.009      -0.689\n",
      "x11           -2.2887      0.296     -7.728      0.000      -2.871      -1.706\n",
      "x12            0.7175      0.261      2.751      0.006       0.205       1.230\n",
      "x13           -3.5898      0.394     -9.118      0.000      -4.364      -2.816\n",
      "==============================================================================\n",
      "Omnibus:                      141.572   Durbin-Watson:                   1.997\n",
      "Prob(Omnibus):                  0.000   Jarque-Bera (JB):              630.874\n",
      "Skew:                           1.470   Prob(JB):                    1.02e-137\n",
      "Kurtosis:                       8.370   Cond. No.                         9.81\n",
      "==============================================================================\n",
      "\n",
      "Notes:\n",
      "[1] Standard Errors assume that the covariance matrix of the errors is correctly specified.\n"
     ]
    }
   ],
   "source": [
    "print(f'summary for linear regression {trained_lin.summary()}\\n\\n')\n",
    "print(f'summary for ridge {trained_rid.summary()}\\n\\n')\n",
    "print(f'summary for lasso {trained_las.summary()}')"
   ]
  },
  {
   "cell_type": "markdown",
   "metadata": {},
   "source": [
    "```As we look on our wonderful summary of values we can see that there are some variants that are insignificant. We can determine that from their pvalues (the \"P>|t|\" column). If the pvalue is close to 1, it is supposed that the probability of the variant's significance is too low, so the coefficient can be made zero.\n",
    "In the linear regression model we see that x3 and x7 have pvalues big enough for us to consider these parameters' insignificance. Also worth noticing that the weight of x3 is the smallest, although not a zero, and the weight of x7 is the second smallest.\n",
    "In the ridge summary these pvalues are big as well. The weights are identical to those of the linear regression model.\n",
    "In the lasso model we see that the model itself took care of the x3 coefficient and equalled it to 0 due to the pvalue size, however the x7 parameter is considered valid.\n",
    "Overall, the weights in these three models are similar, and the lasso model is the only one containing the true zero weight corresponding to the variable which in the other models also has the lightest weight and the biggest pvalue. Based on this we can theoretize that the lasso model is better than the others, as it can determine the insignificant values itself.```"
   ]
  },
  {
   "cell_type": "markdown",
   "metadata": {},
   "source": [
    "---\n",
    "#### 4. [1 point] \n",
    "Implement one of the elimination algorithms that were described in the Seminar_4 (Elimination by P-value, Forward elimination, Backward elimination), make conclusions. \n",
    "It's enough to apply to one of the models above (e.g simple linear regression)"
   ]
  },
  {
   "cell_type": "code",
   "execution_count": 21,
   "metadata": {},
   "outputs": [
    {
     "name": "stdout",
     "output_type": "stream",
     "text": [
      "Backward Elimination results                  Results: Ordinary least squares\n",
      "==================================================================\n",
      "Model:              OLS              Adj. R-squared:     0.766    \n",
      "Dependent Variable: y                AIC:                2368.9876\n",
      "Date:               2021-10-11 12:35 BIC:                2421.0060\n",
      "No. Observations:   404              Log-Likelihood:     -1171.5  \n",
      "Df Model:           12               F-statistic:        110.9    \n",
      "Df Residuals:       391              Prob (F-statistic): 9.16e-118\n",
      "R-squared:          0.773            Scale:              19.971   \n",
      "--------------------------------------------------------------------\n",
      "           Coef.    Std.Err.      t       P>|t|     [0.025    0.975]\n",
      "--------------------------------------------------------------------\n",
      "const     22.6119     0.2223   101.7003   0.0000   22.1748   23.0490\n",
      "x1        -0.9684     0.2975    -3.2556   0.0012   -1.5532   -0.3836\n",
      "x2         1.0682     0.3365     3.1742   0.0016    0.4066    1.7299\n",
      "x3         0.0402     0.4422     0.0910   0.9276   -0.8292    0.9096\n",
      "x4         0.5932     0.2288     2.5929   0.0099    0.1434    1.0429\n",
      "x5        -1.8863     0.4625    -4.0789   0.0001   -2.7955   -0.9771\n",
      "x6         2.5599     0.3111     8.2284   0.0000    1.9482    3.1715\n",
      "x7        -2.8534     0.4257    -6.7025   0.0000   -3.6904   -2.0164\n",
      "x8         2.1213     0.6047     3.5079   0.0005    0.9324    3.3102\n",
      "x9        -1.8787     0.6642    -2.8283   0.0049   -3.1846   -0.5727\n",
      "x10       -2.2965     0.2994    -7.6703   0.0000   -2.8852   -1.7079\n",
      "x11        0.7123     0.2596     2.7440   0.0063    0.2020    1.2227\n",
      "x12       -3.6230     0.3692    -9.8142   0.0000   -4.3488   -2.8973\n",
      "------------------------------------------------------------------\n",
      "Omnibus:             140.079       Durbin-Watson:          1.999  \n",
      "Prob(Omnibus):       0.000         Jarque-Bera (JB):       613.975\n",
      "Skew:                1.459         Prob(JB):               0.000  \n",
      "Kurtosis:            8.288         Condition No.:          9      \n",
      "==================================================================\n",
      "\n",
      "rmse for this elimination is 5.780222921822189 while for common linear regression it was 5.783509315085141\n"
     ]
    }
   ],
   "source": [
    "def fit(X_dataframe, y):\n",
    "    X_train, X_test, y_train, y_test = train_test_split(X_dataframe, y, test_size=0.2, random_state=0)\n",
    "    scaler = StandardScaler()\n",
    "    scaler.fit(X_train)\n",
    "    scaled_X_train = scaler.transform(X_train)\n",
    "    scaled_X_test = scaler.transform(X_test)\n",
    "    scaled_X_train = sm.add_constant(scaled_X_train)\n",
    "    scaled_X_test = sm.add_constant(scaled_X_test)\n",
    "    linearReg = sm.OLS(y_train, scaled_X_train)\n",
    "    trained_lin = linearReg.fit()\n",
    "    prediction_lin = trained_lin.predict(scaled_X_test)\n",
    "    new_rmse = mean_squared_error(y_test, prediction_lin, squared=False)\n",
    "\n",
    "    return trained_lin, new_rmse\n",
    "\n",
    "\n",
    "def back_elimination(dataframe, y):\n",
    "    best_dataframe = dataframe\n",
    "    best_drop, best_rmse = fit(best_dataframe, y)\n",
    "    \n",
    "    while True:\n",
    "        drop = best_drop\n",
    "        min_rmse = float('inf')\n",
    "        drop_dataframe = best_dataframe\n",
    "        \n",
    "        for i in range(best_dataframe.shape[1]):\n",
    "            i_dataframe = best_dataframe.drop(best_dataframe.columns[i-1], axis=1)\n",
    "            i_drop, i_rmse = fit(i_dataframe, y)\n",
    "       #     print(f'curr i = {i} curr best rmse = {best_rmse} curr rmse = {i_rmse}')\n",
    "            if i_rmse <= min_rmse:\n",
    "        #        print(f'find min {i_rmse} <= {min_rmse}')\n",
    "                min_rmse = i_rmse\n",
    "                drop = i_drop\n",
    "                drop_dataframe = i_dataframe\n",
    "        if min_rmse > best_rmse:\n",
    "    #        print(\"go break\")\n",
    "            break\n",
    "        else:\n",
    "         #   print(\"dropayem\")\n",
    "            best_drop = drop\n",
    "            best_rmse = min_rmse\n",
    "            best_dataframe = drop_dataframe\n",
    "            \n",
    "            \n",
    "    return best_drop, best_rmse\n",
    "\n",
    "res, res_rmse = back_elimination(X_dataframe, y)\n",
    "\n",
    "print(f'Backward Elimination results {res.summary2()}')\n",
    "print(f'rmse for this elimination is {res_rmse} while for common linear regression it was {lin_rmse}')"
   ]
  },
  {
   "cell_type": "markdown",
   "metadata": {},
   "source": [
    "```I decided to write a backward elimination and it seems that the algorithm decided to drop the x7 parameter, even though x3 has a bigger pvalue (but it's not a pvalue elimination so that's acceptable). Probably the improvement of model wasn't significant with any other columns being dropped, so we only drop x7. Also the rmse for this elimination is smaller than that of the common linear regression we did earlier so probably this means something is working)```"
   ]
  },
  {
   "cell_type": "markdown",
   "metadata": {},
   "source": [
    "---\n",
    "#### 5. [1 point] \n",
    "Find the best (in terms of RMSE) $\\alpha$ for Ridge regression using cross-validation with 5 folds. You must select values from range $[10^{-4}, 10^{3}]$."
   ]
  },
  {
   "cell_type": "code",
   "execution_count": 20,
   "metadata": {},
   "outputs": [
    {
     "name": "stdout",
     "output_type": "stream",
     "text": [
      "Best alpha = 7.196856730011514\n"
     ]
    }
   ],
   "source": [
    "alphas = np.logspace(-4, 3)\n",
    "searcher = GridSearchCV(Ridge(), [{\"alpha\": alphas}], scoring=\"neg_root_mean_squared_error\", cv=5)\n",
    "searcher.fit(scaled_X_train, y_train)\n",
    "\n",
    "best_alpha = searcher.best_params_[\"alpha\"]\n",
    "print(f'Best alpha = {best_alpha}')"
   ]
  },
  {
   "cell_type": "markdown",
   "metadata": {},
   "source": [
    "---\n",
    "## Gradient descent\n",
    "\n",
    "#### 6. [3.5 points] \n",
    "**Implement a linear regression model for the MSE loss function, trained by gradient descent.**\n",
    "\n",
    "All calculations must be vectorized, and python loops can only be used for gradient descent iterations. As a stop criterion, you must use (simultaneously):\n",
    "\n",
    "* checking for the Euclidean norm of the weight difference on two adjacent iterations (for example, less than some small number of the order of $10^{-6}$, set by the `tolerance` parameter);\n",
    "* reaching the maximum number of iterations (for example, 10000, set by the `max_iter` parameter).\n",
    "\n",
    "You need to implement:\n",
    "\n",
    "* Full gradient descent:\n",
    "\n",
    "$$\n",
    "w_{k + 1} = w_{k} - \\eta_{k} \\nabla_{w} Q(w_{k}).\n",
    "$$\n",
    "\n",
    "* Stochastic Gradient Descent:\n",
    "\n",
    "$$\n",
    "w_{k + 1} = w_{k} - \\eta_{k} \\nabla_{w} q_{i_{k}}(w_{k}).\n",
    "$$\n",
    "\n",
    "$\\nabla_{w} q_{i_{k}}(w_{k}) \\, $ is the estimate of the gradient over the batch of objects selected randomly.\n",
    "\n",
    "* Momentum method:\n",
    "\n",
    "$$\n",
    "h_0 = 0, \\\\\n",
    "h_{k + 1} = \\alpha h_{k} + \\eta_k \\nabla_{w} q_{i_{k}} (w_{k}), \\\\\n",
    "w_{k + 1} = w_{k} - h_{k + 1}.\n",
    "$$\n",
    "\n",
    "Exponentially weighed averages can provide a better estimate which is closer to the actual gradient.\n",
    "\n",
    "\n",
    "To make sure that the optimization process really converges, we will use the `loss_history` class attribute. After calling the `fit` method, it should contain the values of the loss function for all iterations, starting from the first one (before the first step on the anti-gradient).\n",
    "\n",
    "You need to initialize the weights with a zero or random (from a normal distribution) vector. The following is a template class that needs to contain the code implementing all variations of the models."
   ]
  },
  {
   "cell_type": "code",
   "execution_count": 121,
   "metadata": {},
   "outputs": [],
   "source": [
    "from sklearn.base import BaseEstimator\n",
    "\n",
    "class LinReg(BaseEstimator):\n",
    "    def __init__(self, delta=1.0, gd_type='Momentum', \n",
    "                 tolerance=1e-4, max_iter=1000, w0=None, eta=1e-2, alpha=1e-3):\n",
    "        \"\"\"\n",
    "        gd_type: str\n",
    "            'GradientDescent', 'StochasticDescent', 'Momentum'\n",
    "        delta: float\n",
    "            proportion of object in a batch (fot stochastic GD)\n",
    "        tolerance: float\n",
    "            for stopping gradient descent\n",
    "        max_iter: int\n",
    "            maximum number of steps in gradient descent\n",
    "        w0: np.array of shape (d)\n",
    "            init weights\n",
    "        eta: float\n",
    "            learning rate\n",
    "        alpha: float\n",
    "            momentum coefficient\n",
    "        \"\"\"\n",
    "        \n",
    "        self.gd_type = gd_type\n",
    "        self.delta = delta\n",
    "        self.tolerance = tolerance\n",
    "        self.max_iter = max_iter\n",
    "        self.w0 = w0\n",
    "        if w0 is None:\n",
    "            self.w0 = np.zeros(X.shape[1] + 1)\n",
    "        self.alpha = alpha\n",
    "        self.w = None\n",
    "        self.eta = eta\n",
    "        self.loss_history = None # list of loss function values at each training iteration\n",
    "    \n",
    "        self.h = 0\n",
    "      \n",
    "    def predict(self, X):\n",
    "        if self.w is None:\n",
    "            raise Exception('Not trained yet')\n",
    "        w_tr = np.transpose(self.w)\n",
    "        return X.dot(w_tr)\n",
    "        \n",
    "    def calc_gradient(self, X, y):\n",
    "        \"\"\"\n",
    "        X: np.array of shape (l, d) (l can be equal to 1 if stochastic)\n",
    "        y: np.array of shape (l)\n",
    "        ---\n",
    "        output: np.array of shape (d)\n",
    "        \"\"\"\n",
    "        prediction = self.predict(X)\n",
    "        diff = prediction - y\n",
    "        return 2 * np.dot(X.T, diff) / y.shape[0]\n",
    "    \n",
    "    def calc_loss(self, X, y):\n",
    "        \"\"\"\n",
    "        X: np.array of shape (l, d)\n",
    "        y: np.array of shape (l)\n",
    "        ---\n",
    "        output: float \n",
    "        \"\"\" \n",
    "        prediction = self.predict(X)\n",
    "        return mean_squared_error(prediction, y)\n",
    "    \n",
    "    def gradient_descent(self, X, y):\n",
    "        weight = self.w - self.eta * self.calc_gradient(X, y)\n",
    "        return weight\n",
    "        \n",
    "    def stochastic_descent(self, X, y):\n",
    "        choosing = np.random.randint(0, len(X), math.floor(self.delta * len(X)))\n",
    "        chosen_x = X[choosing, :]\n",
    "        chosen_y = y[choosing]\n",
    "        weight = self.w - self.eta * self.calc_gradient(chosen_x, chosen_y)\n",
    "        return weight\n",
    "        \n",
    "    def momentum(self, X, y):\n",
    "        step = self.alpha * self.h\n",
    "        self.h = step + self.eta* self.calc_gradient(X, y)\n",
    "        weight = self.w - self.h\n",
    "        return weight\n",
    "            \n",
    "    def descent_type(self, X, y):\n",
    "        if self.gd_type == 'GradientDescent':\n",
    "            return self.gradient_descent(X, y)\n",
    "        elif self.gd_type == 'StochasticDescent': \n",
    "            return self.stochastic_descent(X, y)\n",
    "        elif self.gd_type == 'Momentum': \n",
    "            return self.momentum(X, y)\n",
    "        \n",
    "        raise Exception('wrong type')\n",
    "        \n",
    "    def fit(self, X, y):\n",
    "        \"\"\"\n",
    "        X: np.array of shape (l, d)\n",
    "        y: np.array of shape (l)\n",
    "        ---\n",
    "        output: self\n",
    "        \"\"\"\n",
    "        self.loss_history = []\n",
    "        self.w = self.w0\n",
    "        \n",
    "        for i in range(self.max_iter):\n",
    "        \n",
    "            weight = self.descent_type(X, y)\n",
    "            \n",
    "            temp = weight\n",
    "            weight = self.w\n",
    "            self.w = temp\n",
    "            loss = self.calc_loss(X, y)\n",
    "            self.loss_history.append(loss)\n",
    "        \n",
    "            if self.tolerance > np.linalg.norm(self.w - weight):\n",
    "                break\n",
    "        \n",
    "        return self"
   ]
  },
  {
   "cell_type": "markdown",
   "metadata": {},
   "source": [
    "#### 7. [1 points] \n",
    "Train and validate \"hand-written\" model (simple linear regression) on the same data, and compare the quality with the Sklearn or StatsModels methods. Investigate the effect of the `max_iter` and `alpha` parameters on the optimization process. Is it consistent with your expectations?"
   ]
  },
  {
   "cell_type": "markdown",
   "metadata": {},
   "source": [
    "```First we will compare sklearn Linear Regression with our LinReg Gradient Descent```"
   ]
  },
  {
   "cell_type": "code",
   "execution_count": 122,
   "metadata": {},
   "outputs": [
    {
     "name": "stdout",
     "output_type": "stream",
     "text": [
      "RMSE for sklearn linear regression is 5.783509315085141\n",
      "RMSE for custom linear regression is 5.81921719706483\n",
      "R2_Score for sklearn linear regression is 0.58922238491825\n",
      "R2_Score for custom linear regression is 0.5841343739762311\n"
     ]
    }
   ],
   "source": [
    "sklearn_lin = sklearn.linear_model.LinearRegression()\n",
    "\n",
    "weights = np.random.rand(scaled_X_train[0].size)\n",
    "grad_lin = LinReg(gd_type = 'GradientDescent', w0 = weights)\n",
    "\n",
    "trained_sklearn_lin = sklearn_lin.fit(scaled_X_train, y_train)\n",
    "trained_grad_lin = grad_lin.fit(scaled_X_train, y_train)\n",
    "\n",
    "prediction_sklearn_lin = trained_sklearn_lin.predict(scaled_X_test)\n",
    "prediction_grad_lin = trained_grad_lin.predict(scaled_X_test)\n",
    "\n",
    "sklearn_lin_rmse = mean_squared_error(y_test, prediction_sklearn_lin, squared=False)\n",
    "grad_lin_rmse = mean_squared_error(y_test, prediction_grad_lin, squared=False)\n",
    "sklearn_lin_r2_score = r2_score(y_test, prediction_sklearn_lin)\n",
    "grad_lin_r2_score = r2_score(y_test, prediction_grad_lin)\n",
    "\n",
    "print(f'RMSE for sklearn linear regression is {sklearn_lin_rmse}')\n",
    "print(f'RMSE for custom linear regression is {grad_lin_rmse}')\n",
    "print(f'R2_Score for sklearn linear regression is {sklearn_lin_r2_score}')\n",
    "print(f'R2_Score for custom linear regression is {grad_lin_r2_score}')"
   ]
  },
  {
   "cell_type": "markdown",
   "metadata": {},
   "source": [
    "```As we can see, the sklearn model RMSE is slightly smaller than that of the custom gradient descent, while the r2_score is a little smaller for the custom gradient descent. Supposedly, we made a model that's not entirely horrible, but still not as good as the one from the library. hoorray?```\n",
    "\n",
    "```Now let's compare custom gradient, stochastic and momentum descent with some options for iterations and alpha parameter. We'll find the best ones using GridSearch and then add one below and above for the test purposes. To avoid having too many results i'll have four options for gradient and stochastic descent: without iterations bound and with three forementioned bounds, as well as for momentum descent with the best alpha parameter. For other two alpha parameters i will only have unbound iterations.```"
   ]
  },
  {
   "cell_type": "code",
   "execution_count": 123,
   "metadata": {},
   "outputs": [
    {
     "name": "stdout",
     "output_type": "stream",
     "text": [
      "Best momentum alpha = 0.1\n",
      "Best gradient descent iterations = 1250\n",
      "Best stochastic descent iterations = 1250\n",
      "Best momentum descent iterations = 1000\n"
     ]
    }
   ],
   "source": [
    "momentum_alphas = [0, 1e-6, 1e-5, 1e-4, 1e-3, 1e-2, 1e-1, 1]\n",
    "searcher = GridSearchCV(LinReg(), [{\"gd_type\": [\"Momentum\"], \"alpha\": momentum_alphas}], scoring = \"neg_root_mean_squared_error\", cv = 5)\n",
    "searcher.fit(scaled_X_train, y_train)\n",
    "best_momentum_alpha = searcher.best_params_[\"alpha\"]\n",
    "print(f'Best momentum alpha = {best_momentum_alpha}')\n",
    "\n",
    "grad_iters = [500, 750, 1000, 1250, 1500, 1750, 2000]\n",
    "searcher = GridSearchCV(LinReg(), [ {\"gd_type\": [\"GradientDescent\"], \"max_iter\": grad_iters}], scoring = \"neg_root_mean_squared_error\", cv = 5)\n",
    "searcher.fit(scaled_X_train, y_train)\n",
    "best_grad_iters = searcher.best_params_[\"max_iter\"]\n",
    "print(f'Best gradient descent iterations = {best_grad_iters}')\n",
    "\n",
    "grad_iters = [500, 750, 1000, 1250, 1500, 1750, 2000]\n",
    "searcher = GridSearchCV(LinReg(), [ {\"gd_type\": [\"StochasticDescent\"], \"max_iter\": grad_iters, \"delta\": [0.3]}], scoring = \"neg_root_mean_squared_error\", cv = 5)\n",
    "searcher.fit(scaled_X_train, y_train)\n",
    "best_stoch_iters = searcher.best_params_[\"max_iter\"]\n",
    "print(f'Best stochastic descent iterations = {best_stoch_iters}')\n",
    "\n",
    "grad_iters = [500, 750, 1000, 1250, 1500, 1750, 2000]\n",
    "searcher = GridSearchCV(LinReg(), [{ \"gd_type\": [\"Momentum\"], \"alpha\": [best_momentum_alpha], \"max_iter\": grad_iters}], scoring = \"neg_root_mean_squared_error\", cv = 5)\n",
    "searcher.fit(scaled_X_train, y_train)\n",
    "best_mom_iters = searcher.best_params_[\"max_iter\"]\n",
    "print(f'Best momentum descent iterations = {best_mom_iters}')"
   ]
  },
  {
   "cell_type": "code",
   "execution_count": 129,
   "metadata": {},
   "outputs": [
    {
     "name": "stdout",
     "output_type": "stream",
     "text": [
      "RMSE for gradient descent is 5.81921719706483\n",
      "RMSE for gradient descent with 625 iterations is 5.860604858132584\n",
      "RMSE for gradient descent with 1250 iterations is 5.806722900084907\n",
      "RMSE for gradient descent with 2500 iterations is 5.787413475593856\n",
      "RMSE for stochastic descent is 5.818952427414873\n",
      "RMSE for stochastic descent with 625 iterations is 5.84933936998493\n",
      "RMSE for stochastic descent with 1250 iterations is 5.857540188746408\n",
      "RMSE for stochastic descent with 2500 iterations is 5.788392313430522\n",
      "RMSE for momentum descent with alpha = 0.025 is 5.815982366937715\n",
      "RMSE for momentum descent with alpha = 0.1 is 5.812811200800716\n",
      "RMSE for momentum descent with alpha = 0.1 and 500 iterations is 5.874694351078448\n",
      "RMSE for momentum descent with alpha = 0.1 and 1000 iterations is 5.812811200800716\n",
      "RMSE for momentum descent with alpha = 0.1 and 2000 iterations is 5.789159171566389\n",
      "RMSE for momentum descent with alpha = 0.4 is 5.8066970423219875\n",
      "\n",
      "R2_Score for gradient descent is 0.5841343739762311\n",
      "R2_Score for gradient descent with 625 iterations is 0.5781978667544149\n",
      "R2_Score for gradient descent with 1250 iterations is 0.5859182464158608\n",
      "R2_Score for gradient descent with 2500 iterations is 0.5886676065100035\n",
      "R2_Score for stochastic descent is 0.5841722162108745\n",
      "R2_Score for stochastic descent with 625 iterations is 0.5798179179236539\n",
      "R2_Score for stochastic descent with 1250 iterations is 0.5786388949848669\n",
      "R2_Score for stochastic descent with 2500 iterations is 0.5885284556577123\n",
      "R2_Score for momentum descent with alpha = 0.025 is 0.5845965944795127\n",
      "R2_Score for momentum descent with alpha = 0.1 is 0.585049468644866\n",
      "R2_Score for momentum descent with alpha = 0.1 and 500 iterations is 0.5761673180010476\n",
      "R2_Score for momentum descent with alpha = 0.1 and 1000 iterations is 0.585049468644866\n",
      "R2_Score for momentum descent with alpha = 0.1 and 2000 iterations is 0.5884194232403901\n",
      "R2_Score for momentum descent with alpha = 0.4 is 0.5859219342804818\n"
     ]
    }
   ],
   "source": [
    "grad_iterations1 = LinReg(gd_type = 'GradientDescent', w0 = weights, max_iter = math.floor(best_grad_iters / 2))\n",
    "grad_iterations2 = LinReg(gd_type = 'GradientDescent', w0 = weights, max_iter = best_grad_iters)\n",
    "grad_iterations3 = LinReg(gd_type = 'GradientDescent', w0 = weights, max_iter = best_grad_iters * 2)\n",
    "stoch = LinReg(gd_type = 'StochasticDescent', w0 = weights, delta = 0.3)\n",
    "stoch_iterations1 = LinReg(gd_type='StochasticDescent', w0 = weights, max_iter = math.floor(best_stoch_iters / 2), delta = 0.3)\n",
    "stoch_iterations2 = LinReg(gd_type='StochasticDescent', w0 = weights, max_iter = best_stoch_iters, delta = 0.3)\n",
    "stoch_iterations3 = LinReg(gd_type='StochasticDescent', w0 = weights, max_iter = best_stoch_iters * 2, delta = 0.3)\n",
    "mom_a1 = LinReg(gd_type = 'Momentum', w0 = weights, alpha = best_momentum_alpha / 2)\n",
    "mom_a2 = LinReg(gd_type = 'Momentum', w0 = weights, alpha = best_momentum_alpha)\n",
    "mom_a2_iterations1 = LinReg(gd_type = 'Momentum', w0 = weights, max_iter = math.floor(best_mom_iters / 2), alpha = best_momentum_alpha)\n",
    "mom_a2_iterations2 = LinReg(gd_type = 'Momentum', w0 = weights, max_iter = best_mom_iters, alpha = best_momentum_alpha)\n",
    "mom_a2_iterations3 = LinReg(gd_type = 'Momentum', w0 = weights, max_iter = best_mom_iters * 2, alpha = best_momentum_alpha)\n",
    "mom_a3 = LinReg(gd_type = 'Momentum', w0 = weights, alpha = best_momentum_alpha * 2)\n",
    "\n",
    "trained_grad_iterations1 = grad_iterations1.fit(scaled_X_train, y_train)\n",
    "trained_grad_iterations2 = grad_iterations2.fit(scaled_X_train, y_train)\n",
    "trained_grad_iterations3 = grad_iterations3.fit(scaled_X_train, y_train)\n",
    "trained_stoch = stoch.fit(scaled_X_train, y_train)\n",
    "trained_stoch_iterations1 = stoch_iterations1.fit(scaled_X_train, y_train)\n",
    "trained_stoch_iterations2 = stoch_iterations2.fit(scaled_X_train, y_train)\n",
    "trained_stoch_iterations3 = stoch_iterations3.fit(scaled_X_train, y_train)\n",
    "trained_mom_a1 = mom_a1.fit(scaled_X_train, y_train)\n",
    "trained_mom_a2 = mom_a2.fit(scaled_X_train, y_train)\n",
    "trained_mom_a2_iterations1 = mom_a2_iterations1.fit(scaled_X_train, y_train)\n",
    "trained_mom_a2_iterations2 = mom_a2_iterations2.fit(scaled_X_train, y_train)\n",
    "trained_mom_a2_iterations3 = mom_a2_iterations3.fit(scaled_X_train, y_train)\n",
    "trained_mom_a3 = mom_a3.fit(scaled_X_train, y_train)\n",
    "\n",
    "prediction_grad_iterations1 = trained_grad_iterations1.predict(scaled_X_test)\n",
    "prediction_grad_iterations2 = trained_grad_iterations2.predict(scaled_X_test)\n",
    "prediction_grad_iterations3 = trained_grad_iterations3.predict(scaled_X_test)\n",
    "prediction_stoch = trained_stoch.predict(scaled_X_test)\n",
    "prediction_stoch_iterations1 = trained_stoch_iterations1.predict(scaled_X_test)\n",
    "prediction_stoch_iterations2 = trained_stoch_iterations2.predict(scaled_X_test)\n",
    "prediction_stoch_iterations3 = trained_stoch_iterations3.predict(scaled_X_test)\n",
    "prediction_mom_a1 = trained_mom_a1.predict(scaled_X_test)\n",
    "prediction_mom_a2 = trained_mom_a2.predict(scaled_X_test)\n",
    "prediction_mom_a2_iterations1 = trained_mom_a2_iterations1.predict(scaled_X_test)\n",
    "prediction_mom_a2_iterations2 = trained_mom_a2_iterations2.predict(scaled_X_test)\n",
    "prediction_mom_a2_iterations3 = trained_mom_a2_iterations3.predict(scaled_X_test)\n",
    "prediction_mom_a3 = trained_mom_a3.predict(scaled_X_test)\n",
    "\n",
    "grad_iterations1_rmse = mean_squared_error(y_test, prediction_grad_iterations1, squared=False)\n",
    "grad_iterations2_rmse = mean_squared_error(y_test, prediction_grad_iterations2, squared=False)\n",
    "grad_iterations3_rmse = mean_squared_error(y_test, prediction_grad_iterations3, squared=False)\n",
    "stoch_rmse = mean_squared_error(y_test, prediction_stoch, squared=False)\n",
    "stoch_iterations1_rmse = mean_squared_error(y_test, prediction_stoch_iterations1, squared=False)\n",
    "stoch_iterations2_rmse = mean_squared_error(y_test, prediction_stoch_iterations2, squared=False)\n",
    "stoch_iterations3_rmse = mean_squared_error(y_test, prediction_stoch_iterations3, squared=False)\n",
    "mom_a1_rmse =  mean_squared_error(y_test, prediction_mom_a1, squared=False)\n",
    "mom_a2_rmse =  mean_squared_error(y_test, prediction_mom_a2, squared=False)\n",
    "mom_a2_iterations1_rmse =  mean_squared_error(y_test, prediction_mom_a2_iterations1, squared=False)\n",
    "mom_a2_iterations2_rmse =  mean_squared_error(y_test, prediction_mom_a2_iterations2, squared=False)\n",
    "mom_a2_iterations3_rmse =  mean_squared_error(y_test, prediction_mom_a2_iterations3, squared=False)\n",
    "mom_a3_rmse =  mean_squared_error(y_test, prediction_mom_a3, squared=False)\n",
    "\n",
    "grad_iterations1_r2_score = r2_score(y_test, prediction_grad_iterations1)\n",
    "grad_iterations2_r2_score = r2_score(y_test, prediction_grad_iterations2)\n",
    "grad_iterations3_r2_score = r2_score(y_test, prediction_grad_iterations3)\n",
    "stoch_r2_score = r2_score(y_test, prediction_stoch)\n",
    "stoch_iterations1_r2_score = r2_score(y_test, prediction_stoch_iterations1)\n",
    "stoch_iterations2_r2_score = r2_score(y_test, prediction_stoch_iterations2)\n",
    "stoch_iterations3_r2_score = r2_score(y_test, prediction_stoch_iterations3)\n",
    "mom_a1_r2_score =  r2_score(y_test, prediction_mom_a1)\n",
    "mom_a2_r2_score =  r2_score(y_test, prediction_mom_a2)\n",
    "mom_a2_iterations1_r2_score =  r2_score(y_test, prediction_mom_a2_iterations1)\n",
    "mom_a2_iterations2_r2_score =  r2_score(y_test, prediction_mom_a2_iterations2)\n",
    "mom_a2_iterations3_r2_score =  r2_score(y_test, prediction_mom_a2_iterations3)\n",
    "mom_a3_r2_score =  r2_score(y_test, prediction_mom_a3)\n",
    "\n",
    "\n",
    "print(f'RMSE for gradient descent is {grad_lin_rmse}')\n",
    "print(f'RMSE for gradient descent with {math.floor(best_grad_iters / 2)} iterations is {grad_iterations1_rmse}')\n",
    "print(f'RMSE for gradient descent with {best_grad_iters} iterations is {grad_iterations2_rmse}')\n",
    "print(f'RMSE for gradient descent with {best_grad_iters * 2} iterations is {grad_iterations3_rmse}')\n",
    "print(f'RMSE for stochastic descent is {stoch_rmse}')\n",
    "print(f'RMSE for stochastic descent with {math.floor(best_stoch_iters / 2)} iterations is {stoch_iterations1_rmse}')\n",
    "print(f'RMSE for stochastic descent with {best_stoch_iters} iterations is {stoch_iterations2_rmse}')\n",
    "print(f'RMSE for stochastic descent with {best_stoch_iters * 2} iterations is {stoch_iterations3_rmse}')\n",
    "print(f'RMSE for momentum descent with alpha = {best_momentum_alpha / 4} is {mom_a1_rmse}')\n",
    "print(f'RMSE for momentum descent with alpha = {best_momentum_alpha} is {mom_a2_rmse}')\n",
    "print(f'RMSE for momentum descent with alpha = {best_momentum_alpha} and {math.floor(best_mom_iters / 2)} iterations is {mom_a2_iterations1_rmse}')\n",
    "print(f'RMSE for momentum descent with alpha = {best_momentum_alpha} and {best_mom_iters} iterations is {mom_a2_iterations2_rmse}')\n",
    "print(f'RMSE for momentum descent with alpha = {best_momentum_alpha} and {best_mom_iters * 2} iterations is {mom_a2_iterations3_rmse}')\n",
    "print(f'RMSE for momentum descent with alpha = {best_momentum_alpha * 4} is {mom_a3_rmse}')\n",
    "print()\n",
    "\n",
    "print(f'R2_Score for gradient descent is {grad_lin_r2_score}')\n",
    "print(f'R2_Score for gradient descent with {math.floor(best_grad_iters / 2)} iterations is {grad_iterations1_r2_score}')\n",
    "print(f'R2_Score for gradient descent with {best_grad_iters} iterations is {grad_iterations2_r2_score}')\n",
    "print(f'R2_Score for gradient descent with {best_grad_iters * 2} iterations is {grad_iterations3_r2_score}')\n",
    "print(f'R2_Score for stochastic descent is {stoch_r2_score}')\n",
    "print(f'R2_Score for stochastic descent with {math.floor(best_stoch_iters / 2)} iterations is {stoch_iterations1_r2_score}')\n",
    "print(f'R2_Score for stochastic descent with {best_stoch_iters} iterations is {stoch_iterations2_r2_score}')\n",
    "print(f'R2_Score for stochastic descent with {best_stoch_iters * 2} iterations is {stoch_iterations3_r2_score}')\n",
    "print(f'R2_Score for momentum descent with alpha = {best_momentum_alpha / 4} is {mom_a1_r2_score}')\n",
    "print(f'R2_Score for momentum descent with alpha = {best_momentum_alpha} is {mom_a2_r2_score}')\n",
    "print(f'R2_Score for momentum descent with alpha = {best_momentum_alpha} and {math.floor(best_mom_iters / 2)} iterations is {mom_a2_iterations1_r2_score}')\n",
    "print(f'R2_Score for momentum descent with alpha = {best_momentum_alpha} and {best_mom_iters} iterations is {mom_a2_iterations2_r2_score}')\n",
    "print(f'R2_Score for momentum descent with alpha = {best_momentum_alpha} and {best_mom_iters * 2} iterations is {mom_a2_iterations3_r2_score}')\n",
    "print(f'R2_Score for momentum descent with alpha = {best_momentum_alpha * 4} is {mom_a3_r2_score}')"
   ]
  },
  {
   "cell_type": "markdown",
   "metadata": {},
   "source": [
    "```So, we got A Number of results...```\n",
    "\n",
    "```Let's take a look at rmse: for gradient descent. It seems that, the more iterations, the better. (Probably because of the cross-validation in the grid search, it is not guaranteed that the found value is the absolute best for every combination of training and testing sets, and when we validate it with the actual test and not a fold of training set, the result might not be as impressive.)```\n",
    "\n",
    "```The same is true for the stochastic descend, the results at 2000 iterations are better. Also they are alightly worse than the results of common gradient descent, probably because of the same randomising issue as with grid search.```\n",
    "\n",
    "```For the momentum descent the found alpha (0.1) indeed seems to be the oprimal one, though more iterations still show the best result. This result is also better than that of the stochastic descend but worse than that of gradient descend.```\n",
    "\n",
    "```R2_Score tells us pretty much the same thing.```"
   ]
  },
  {
   "cell_type": "markdown",
   "metadata": {},
   "source": [
    "#### 8. [1 points] \n",
    "Plot graphs (on the same picture) of the dependence of the loss function value on the iteration number for Full GD, SGD and Momentum. Draw conclusions about the rate of convergence of various modifications of gradient descent.\n",
    "\n",
    "Don't forget about what *beautiful* graphics should look like!"
   ]
  },
  {
   "cell_type": "code",
   "execution_count": 137,
   "metadata": {},
   "outputs": [
    {
     "data": {
      "image/png": "[encoded data removed]",
      "text/plain": [
       "<Figure size 1440x720 with 1 Axes>"
      ]
     },
     "metadata": {},
     "output_type": "display_data"
    }
   ],
   "source": [
    "plt.figure(figsize=(20, 10))\n",
    "plt.plot(trained_grad_iterations3.loss_history[:250], label='gradient', color = 'cyan')\n",
    "plt.plot(trained_stoch_iterations3.loss_history[:250], label='stochastic', color = 'blue')\n",
    "plt.plot(trained_mom_a1.loss_history[:250], label = f'momentum alpha = {best_momentum_alpha / 4}', color = 'yellow')\n",
    "plt.plot(trained_mom_a2_iterations3.loss_history[:250], label = f'momentum alpha = {best_momentum_alpha}', color = 'orange')\n",
    "plt.plot(trained_mom_a3.loss_history[:250], label = f'momentum alpha = {best_momentum_alpha * 4}', color = 'red')\n",
    "plt.legend()\n",
    "plt.show()"
   ]
  },
  {
   "cell_type": "markdown",
   "metadata": {},
   "source": [
    "```Here is the dependence of loss function from the iteration index (on the first 250 iterations because after that it's too good and boring to look at). All of methods seem to make loss drop relatively fast, though momentum with big alpha seems to be the fastest and stochastic descent the slowest.```\n",
    "\n",
    "```Just for fun, let's take some weird deltas and alphas and see what happens...```"
   ]
  },
  {
   "cell_type": "code",
   "execution_count": 142,
   "metadata": {},
   "outputs": [
    {
     "data": {
      "image/png": "[encoded data removed]",
      "text/plain": [
       "<Figure size 1440x720 with 1 Axes>"
      ]
     },
     "metadata": {},
     "output_type": "display_data"
    }
   ],
   "source": [
    "stoch_little_delta = LinReg(gd_type = 'StochasticDescent', w0 = weights, delta = 0.01)\n",
    "stoch_big_delta = LinReg(gd_type = 'StochasticDescent', w0 = weights, delta = 0.9)\n",
    "mom_little_alpha = LinReg(gd_type = 'Momentum', w0 = weights, alpha = 0.001)\n",
    "mom_big_alpha = LinReg(gd_type = 'Momentum', w0 = weights, alpha = 0.9)\n",
    "\n",
    "trained_stoch_little_delta = stoch_little_delta.fit(scaled_X_train, y_train)\n",
    "trained_stoch_big_delta = stoch_big_delta.fit(scaled_X_train, y_train)\n",
    "trained_mom_little_alpha = mom_little_alpha.fit(scaled_X_train, y_train)\n",
    "trained_mom_big_alpha = mom_big_alpha.fit(scaled_X_train, y_train)\n",
    "\n",
    "plt.figure(figsize=(20, 10))\n",
    "plt.plot(trained_grad_iterations3.loss_history[:150], label = 'gradient', color = 'cyan')\n",
    "plt.plot(trained_stoch_little_delta.loss_history[:150], label = 'stochastic delta = 0.01', color = 'blue')\n",
    "plt.plot(trained_stoch_iterations3.loss_history[:150], label = 'stochastic delta = 0.3', color = 'purple')\n",
    "plt.plot(trained_stoch_big_delta.loss_history[:150], label = 'stochastic delta = 0.9', color = 'magenta')\n",
    "plt.plot(trained_mom_little_alpha.loss_history[:150], label = 'momentum alpha = 0.001', color = 'yellow')\n",
    "plt.plot(trained_mom_a2_iterations3.loss_history[:150], label = f'momentum alpha = {best_momentum_alpha}', color = 'orange')\n",
    "plt.plot(trained_mom_big_alpha.loss_history[:150], label = 'momentum alpha = 0.9', color = 'red')\n",
    "plt.legend()\n",
    "plt.show()"
   ]
  },
  {
   "cell_type": "markdown",
   "metadata": {},
   "source": [
    "```As can be seen, the big alpha for momentum results in a steeper drop in loss, and a small delta for stochastic descend results in fluctuations, because then the set chosen for gradient calculation is just too small. Everything else is pretty normal.```"
   ]
  },
  {
   "cell_type": "code",
   "execution_count": null,
   "metadata": {},
   "outputs": [],
   "source": []
  }
 ],
 "metadata": {
  "kernelspec": {
   "display_name": "Python 3 (ipykernel)",
   "language": "python",
   "name": "python3"
  },
  "language_info": {
   "codemirror_mode": {
    "name": "ipython",
    "version": 3
   },
   "file_extension": ".py",
   "mimetype": "text/x-python",
   "name": "python",
   "nbconvert_exporter": "python",
   "pygments_lexer": "ipython3",
   "version": "3.8.8"
  }
 },
 "nbformat": 4,
 "nbformat_minor": 4
}
