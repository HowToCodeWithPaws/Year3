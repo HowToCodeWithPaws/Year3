{
 "cells": [
  {
   "cell_type": "markdown",
   "metadata": {},
   "source": [
    "# HSE 2021: Mathematical Methods for Data Analysis\n",
    "\n",
    "## Homework 1"
   ]
  },
  {
   "cell_type": "markdown",
   "metadata": {},
   "source": [
    "### Attention!\n",
    "* For tasks where <ins>text answer</ins> is required **Russian language** is **allowed**.\n",
    "* If a task asks you to describe something (make coclusions) then **text answer** is **mandatory** and **is** part of the task\n",
    "* **Do not** upload the dataset (titanic.csv) to the grading system (we already have it)\n",
    "* We **only** accept **ipynb** notebooks. If you use Google Colab then you'll have to download the notebook before passing the homework\n",
    "* **Do not** use python loops instead of NumPy vector operations over NumPy vectors - it significantly decreases performance (see why https://blog.paperspace.com/numpy-optimization-vectorization-and-broadcasting/), will be punished with -0.25 for **every** task. \n",
    "Loops are only allowed in part 1 (Tasks 1 - 4). \n",
    "* Some tasks contain tests. They only test you solution on a simple example, thus, passing the test does **not** guarantee you the full grade for the task. "
   ]
  },
  {
   "cell_type": "code",
   "execution_count": 2,
   "metadata": {},
   "outputs": [],
   "source": [
    "%matplotlib inline\n",
    "import numpy as np\n",
    "import pandas as pd\n",
    "import matplotlib.pyplot as plt\n",
    "import seaborn as sns"
   ]
  },
  {
   "cell_type": "markdown",
   "metadata": {},
   "source": [
    "# 1. Python (2 points)"
   ]
  },
  {
   "cell_type": "markdown",
   "metadata": {},
   "source": [
    "**Task 1** (0.5 points)<br/> \n",
    "Enter numbers `a`,  `d` и `N`. Find sum of the first `N` members of arithmetic progression with the first member `a` and difference `d`, without using formula for the sum."
   ]
  },
  {
   "cell_type": "code",
   "execution_count": 179,
   "metadata": {},
   "outputs": [],
   "source": [
    "import math as math\n",
    "def find_sum(a,d,N):\n",
    "    if N < 1: return 0\n",
    "    if type(N) != int: \n",
    "        N = math.floor(N)\n",
    "    res = a\n",
    "    for i in range(N-1):\n",
    "        a += d\n",
    "        res += a\n",
    "    return res"
   ]
  },
  {
   "cell_type": "code",
   "execution_count": 7,
   "metadata": {},
   "outputs": [
    {
     "name": "stdout",
     "output_type": "stream",
     "text": [
      "None\n"
     ]
    }
   ],
   "source": [
    "print(np.random.seed(13))"
   ]
  },
  {
   "cell_type": "markdown",
   "metadata": {},
   "source": [
    "Check yourself"
   ]
  },
  {
   "cell_type": "code",
   "execution_count": 180,
   "metadata": {},
   "outputs": [],
   "source": [
    "a = 2\n",
    "d = 3\n",
    "N = 15\n",
    "assert find_sum(a,d,N) == 345, 'Wrong answer'\n",
    "assert find_sum(2, -1, -1) == 0, 'Wrong'\n",
    "assert find_sum(0, 1, 4.2) == find_sum(0, 1, 4), 'Wrong'"
   ]
  },
  {
   "cell_type": "markdown",
   "metadata": {},
   "source": [
    "---\n",
    "**Task 2** (0.5 points) <br/> \n",
    "Enter an integer number `N`. Check if it is a prime number."
   ]
  },
  {
   "cell_type": "code",
   "execution_count": 181,
   "metadata": {},
   "outputs": [],
   "source": [
    "def check_prime(N):\n",
    "    if N <= 1: return False\n",
    "    i = 2\n",
    "    while(i*i <= N):\n",
    "        if(N%i==0): return False\n",
    "        else: i += 1\n",
    "    return True"
   ]
  },
  {
   "cell_type": "markdown",
   "metadata": {},
   "source": [
    "Check yourself"
   ]
  },
  {
   "cell_type": "code",
   "execution_count": 182,
   "metadata": {},
   "outputs": [],
   "source": [
    "inp = [3, 8, 13, 111, 113, 237, 307, 479, 481]\n",
    "answer = [True, False, True, False, True, False, True, True, False]\n",
    "\n",
    "for N, ans in zip(inp, answer):\n",
    "    assert check_prime(N) == ans, f'Wrong answer for input {N}, {ans} is expected'\n",
    "    \n",
    "assert check_prime(0) == False, 'Wrong'\n",
    "assert check_prime(-1) == False, 'Wrong'"
   ]
  },
  {
   "cell_type": "markdown",
   "metadata": {},
   "source": [
    "---\n",
    "**Task 3** (0.5 points) <br/> \n",
    "Find the first `N` prime numbers (you may use the function from the previous task)."
   ]
  },
  {
   "cell_type": "code",
   "execution_count": 183,
   "metadata": {},
   "outputs": [],
   "source": [
    "def find_primes(N):\n",
    "    p = 1\n",
    "    res = []\n",
    "    while N>0:\n",
    "        p += 1\n",
    "        if(check_prime(p)):\n",
    "            res.append(p)\n",
    "            N -=1\n",
    "    return res\n"
   ]
  },
  {
   "cell_type": "markdown",
   "metadata": {},
   "source": [
    "Check yourself"
   ]
  },
  {
   "cell_type": "code",
   "execution_count": 184,
   "metadata": {},
   "outputs": [],
   "source": [
    "assert find_primes(0) == [], 'Wrong answer'\n",
    "assert find_primes(1) == [2], 'Wrong answer'\n",
    "assert find_primes(5) == [2, 3, 5, 7, 11], 'Wrong answer'"
   ]
  },
  {
   "cell_type": "markdown",
   "metadata": {},
   "source": [
    "---\n",
    "**Task 4** (0.5 points) <br/> \n",
    "There are numbers: `a`, `b`, `c`. Without using functions `min`, `max` or any other functions, find the maximum number."
   ]
  },
  {
   "cell_type": "code",
   "execution_count": 185,
   "metadata": {},
   "outputs": [],
   "source": [
    "def find_max(a, b, c):\n",
    "    if a<=b:\n",
    "        if b<=c: return c\n",
    "        else: return b\n",
    "    else:\n",
    "        if a<=c: return c\n",
    "        else: return a"
   ]
  },
  {
   "cell_type": "markdown",
   "metadata": {},
   "source": [
    "Check yourself"
   ]
  },
  {
   "cell_type": "code",
   "execution_count": 186,
   "metadata": {},
   "outputs": [
    {
     "name": "stdout",
     "output_type": "stream",
     "text": [
      "Checking on (-45, -16, 7)\n",
      "Checking on (67, -92, 47)\n",
      "Checking on (9, -67, -53)\n",
      "Checking on (-77, -25, 75)\n",
      "Checking on (-53, 84, 72)\n",
      "Checking on (69, 17, -87)\n",
      "Checking on (100, 69, -66)\n",
      "Checking on (51, 5, -56)\n",
      "Checking on (57, -21, 47)\n",
      "Checking on (-61, 80, -69)\n"
     ]
    }
   ],
   "source": [
    "from random import randint\n",
    "for i in range(10):    \n",
    "    a = randint(-100, 100)\n",
    "    b = randint(-100, 100)\n",
    "    c = randint(-100, 100)\n",
    "    answer = np.max([a, b, c])  # You cannot use `np.max` in the solution ;)\n",
    "    print(f'Checking on {a, b, c}')\n",
    "    assert find_max(a, b, c) == answer, f'Wrong maximum, {answer} is expected'"
   ]
  },
  {
   "cell_type": "markdown",
   "metadata": {},
   "source": [
    "# 2. Numpy (4 points)\n",
    "### **!Do not use loops in the tasks below, see disclamer at the top of the notebook**"
   ]
  },
  {
   "cell_type": "markdown",
   "metadata": {},
   "source": [
    "**Task 1** (0.5 points) <br/>\n",
    "Create a random array (`np.random.rand()`) with length of 20 and with sum of its elements equals to 3."
   ]
  },
  {
   "cell_type": "code",
   "execution_count": 187,
   "metadata": {},
   "outputs": [],
   "source": [
    "my_array = np.random.rand(20)\n",
    "my_array /= np.sum(my_array)/3"
   ]
  },
  {
   "cell_type": "markdown",
   "metadata": {},
   "source": [
    "Check yourself"
   ]
  },
  {
   "cell_type": "code",
   "execution_count": 188,
   "metadata": {},
   "outputs": [],
   "source": [
    "assert len(my_array) == 20\n",
    "assert np.allclose(np.sum(my_array), 3)"
   ]
  },
  {
   "cell_type": "markdown",
   "metadata": {},
   "source": [
    "---\n",
    "**Task 2** (0.5 points) <br/>\n",
    "Create two random arrays $a$ and $b$ with the same length. \n",
    "\n",
    "Calculate the following distances between the arrays **without using special functions. You may only use basic numpy operations (first level functions like `np.dot` are ok, higher level functions like `np.linalg.*` are prohibited).**:\n",
    "\n",
    "* Euclidean Distance\n",
    "$$ d(a, b) = \\sqrt{\\sum_i (a_i - b_i)^2} $$\n",
    "* Manhattan Distance\n",
    "$$ d(a, b) = \\sum_i |a_i - b_i| $$\n",
    "* Cosine Distance\n",
    "$$ d(a, b) = 1 - \\frac{a^\\top b}{||a||_2\\cdot||b||_2}, \\,\\, \\text{where}\\,\\, ||a||_2 = \\sqrt{\\sum_i a_i^2} $$"
   ]
  },
  {
   "cell_type": "code",
   "execution_count": 191,
   "metadata": {},
   "outputs": [],
   "source": [
    "def cal_euclidean(a, b):    \n",
    "    return np.sqrt(np.sum((a-b)**2))\n",
    "\n",
    "def cal_manhattan(a, b):   \n",
    "    return np.sum(np.abs(a-b))\n",
    "    \n",
    "def cal_cosine(a, b):   \n",
    "    return 1 - np.dot(a,b)/(np.sqrt(np.sum(a**2))*np.sqrt(np.sum(b**2)))"
   ]
  },
  {
   "cell_type": "markdown",
   "metadata": {},
   "source": [
    "Check yourself"
   ]
  },
  {
   "cell_type": "code",
   "execution_count": 192,
   "metadata": {},
   "outputs": [],
   "source": [
    "a = np.ones(10)*0.1\n",
    "b = np.ones(10)\n",
    "\n",
    "assert np.allclose(cal_euclidean(a, b), 2.846049)\n",
    "assert np.allclose(cal_manhattan(a, b), 9)\n",
    "assert np.allclose(cal_cosine(a, b), 0)"
   ]
  },
  {
   "cell_type": "markdown",
   "metadata": {},
   "source": [
    "---\n",
    "**Task 3** (0.5 points) <br/>\n",
    "Create a function `custom_scaler`, which takes as input an array with integer values and transforms an array, so that:\n",
    "* Maximum element(s) value is 2 (it **doesn't** mean `a[max_index] = 2`)\n",
    "* Minimum element(s) value is -2 (it **doesn't** mean `a[min_index] = -2`)\n",
    "* Other values are in the interval [-2, 2] (using **arithmetic** transformations)"
   ]
  },
  {
   "cell_type": "code",
   "execution_count": 193,
   "metadata": {},
   "outputs": [],
   "source": [
    "def custom_scaler(my_array):\n",
    "    max = np.max(my_array)\n",
    "    my_array -= max\n",
    "    new_array = my_array / np.min(my_array)\n",
    "    new_array *= 4\n",
    "    new_array -= 2\n",
    "    return new_array"
   ]
  },
  {
   "cell_type": "markdown",
   "metadata": {},
   "source": [
    "Check yourself"
   ]
  },
  {
   "cell_type": "code",
   "execution_count": 194,
   "metadata": {},
   "outputs": [
    {
     "name": "stdout",
     "output_type": "stream",
     "text": [
      "[-104    0  -11  -23] ->> [ 2.         -2.         -1.57692308 -1.11538462]\n"
     ]
    }
   ],
   "source": [
    "test_array = np.random.randint(-100, 100, size=4)\n",
    "result = custom_scaler(test_array)\n",
    "print(test_array, '->>', result)\n",
    "\n",
    "assert np.allclose(np.max(result), 2), f'Maximum value shoul be 2, got {np.max(result)} instead'\n",
    "assert np.allclose(np.min(result), -2), f'Minimum value should be -2, got {np.min(result)} instead'\n",
    "assert np.sum(result < -2) + np.sum(result > 2) == 0, 'All elements are supposed to be between -2 and 2'"
   ]
  },
  {
   "cell_type": "markdown",
   "metadata": {},
   "source": [
    "---\n",
    "**Task 4** (0.5 points) <br/>\n",
    "Create an array with shape of $5 \\times 6$ with integers from [0,50]. Select a column which contains the maximum element of the array."
   ]
  },
  {
   "cell_type": "code",
   "execution_count": 195,
   "metadata": {},
   "outputs": [],
   "source": [
    "my_array = np.random.randint(0,51,(5,6))\n",
    "index = np.argmax(my_array)\n",
    "index2d = np.unravel_index(index, np.shape(my_array))\n",
    "selected_column = my_array[:, index2d[1]]"
   ]
  },
  {
   "cell_type": "code",
   "execution_count": 196,
   "metadata": {},
   "outputs": [
    {
     "name": "stdout",
     "output_type": "stream",
     "text": [
      "Array:\n",
      " [[30 40 24  9 15 42]\n",
      " [20 22 45  2 37 45]\n",
      " [17  8  6 35 16 18]\n",
      " [31 14 19 43 45 32]\n",
      " [ 0 30 25 23  4 38]]\n",
      "Shape: (5, 6)\n",
      "Selected column [24 45  6 19 25]\n"
     ]
    }
   ],
   "source": [
    "print(f'Array:\\n {my_array}')\n",
    "print(f'Shape: {my_array.shape}')\n",
    "print(f'Selected column {selected_column}')"
   ]
  },
  {
   "cell_type": "markdown",
   "metadata": {},
   "source": [
    "---\n",
    "**Task 5** (0.5 points) <br/>\n",
    "\n",
    "Replace all missing values in the following array with mean."
   ]
  },
  {
   "cell_type": "code",
   "execution_count": 197,
   "metadata": {},
   "outputs": [
    {
     "name": "stdout",
     "output_type": "stream",
     "text": [
      "Given array: [0.03 0.07 0.16 0.2   nan  nan 0.74  nan 0.62  nan]\n"
     ]
    }
   ],
   "source": [
    "arr = np.random.rand(10)\n",
    "idx = np.random.randint(0, 10, 4)\n",
    "arr[idx] = np.nan\n",
    "\n",
    "print(f'Given array: {np.array2string(arr, precision=2)}')"
   ]
  },
  {
   "cell_type": "code",
   "execution_count": 198,
   "metadata": {},
   "outputs": [
    {
     "name": "stdout",
     "output_type": "stream",
     "text": [
      "Result: [0.03 0.07 0.16 0.2  0.3  0.3  0.74 0.3  0.62 0.3 ]\n"
     ]
    }
   ],
   "source": [
    "ind = np.where(np.isnan(arr)==False)\n",
    "mean = np.mean(arr[ind])\n",
    "arr[np.where(np.isnan(arr) == True)] = mean\n",
    "\n",
    "print(f'Result: {np.array2string(arr, precision=2)}')"
   ]
  },
  {
   "cell_type": "markdown",
   "metadata": {},
   "source": [
    "---\n",
    "**Task 6** (0.5 points) <br/>\n",
    "Create a function which takes an image ```X``` (3D array of the shape (n, m, 3)) as an input and returns the mean for each of 3 channels (a vector of shape 3)."
   ]
  },
  {
   "cell_type": "code",
   "execution_count": 199,
   "metadata": {},
   "outputs": [],
   "source": [
    "def mean_channel(X):\n",
    "    xAxis = np.mean(X[:,:,0])\n",
    "    yAxis = np.mean(X[:,:,1])\n",
    "    zAxis = np.mean(X[:,:,2])\n",
    "    res = [xAxis, yAxis, zAxis]\n",
    "    return res"
   ]
  },
  {
   "cell_type": "code",
   "execution_count": 200,
   "metadata": {},
   "outputs": [
    {
     "data": {
      "text/plain": [
       "[-0.5691964285714286, -1.0558035714285714, -0.3125]"
      ]
     },
     "execution_count": 200,
     "metadata": {},
     "output_type": "execute_result"
    }
   ],
   "source": [
    "n = 28\n",
    "m = 16\n",
    "X =  np.random.randint(-10, 10, size=(n,m,3))\n",
    "mean_channel(X)"
   ]
  },
  {
   "cell_type": "markdown",
   "metadata": {},
   "source": [
    "---\n",
    "**Task 7** (1 points) <br/>\n",
    "Create a function which takes a matrix ```X``` as an input and returns all its unique rows as a matrix, i.e. in a 3D matrix you need to return all unique horizontal layers.\n",
    "\n",
    "Sample input:\n",
    "\n",
    "     ([[[4, 4],\n",
    "        [5, 5]],\n",
    "\n",
    "       [[4, 5],\n",
    "        [5, 5]],\n",
    "\n",
    "       [[4, 4],\n",
    "        [5, 4]],\n",
    "\n",
    "       [[4, 5],\n",
    "        [5, 5]],\n",
    "\n",
    "       [[5, 4],\n",
    "        [4, 4]],\n",
    "\n",
    "       [[5, 5],\n",
    "        [4, 5]]])\n",
    "        \n",
    "Sample output:\n",
    "\n",
    "     ([[[4, 4],\n",
    "        [5, 5]],\n",
    "\n",
    "       [[4, 5],\n",
    "        [5, 5]],\n",
    "\n",
    "       [[4, 4],\n",
    "        [5, 4]],\n",
    "\n",
    "       [[5, 4],\n",
    "        [4, 4]],\n",
    "\n",
    "       [[5, 5],\n",
    "        [4, 5]]])"
   ]
  },
  {
   "cell_type": "code",
   "execution_count": 201,
   "metadata": {},
   "outputs": [],
   "source": [
    "def get_unique_rows(X):\n",
    "    res = np.unique(X, axis=0)\n",
    "    return res"
   ]
  },
  {
   "cell_type": "code",
   "execution_count": 202,
   "metadata": {},
   "outputs": [
    {
     "name": "stdout",
     "output_type": "stream",
     "text": [
      "[[[4 5]\n",
      "  [5 4]]\n",
      "\n",
      " [[5 5]\n",
      "  [4 5]]\n",
      "\n",
      " [[5 4]\n",
      "  [5 5]]\n",
      "\n",
      " [[4 4]\n",
      "  [4 4]]\n",
      "\n",
      " [[4 5]\n",
      "  [4 5]]\n",
      "\n",
      " [[4 4]\n",
      "  [4 4]]\n",
      "\n",
      " [[4 5]\n",
      "  [5 5]]\n",
      "\n",
      " [[5 4]\n",
      "  [4 5]]\n",
      "\n",
      " [[5 4]\n",
      "  [4 5]]\n",
      "\n",
      " [[4 5]\n",
      "  [4 4]]\n",
      "\n",
      " [[4 4]\n",
      "  [5 4]]\n",
      "\n",
      " [[4 4]\n",
      "  [4 5]]\n",
      "\n",
      " [[4 5]\n",
      "  [4 5]]\n",
      "\n",
      " [[5 4]\n",
      "  [4 4]]\n",
      "\n",
      " [[5 4]\n",
      "  [5 5]]\n",
      "\n",
      " [[4 5]\n",
      "  [4 5]]\n",
      "\n",
      " [[4 5]\n",
      "  [5 5]]\n",
      "\n",
      " [[4 4]\n",
      "  [5 4]]\n",
      "\n",
      " [[5 5]\n",
      "  [5 4]]\n",
      "\n",
      " [[4 4]\n",
      "  [4 4]]\n",
      "\n",
      " [[4 5]\n",
      "  [5 5]]\n",
      "\n",
      " [[4 4]\n",
      "  [4 4]]\n",
      "\n",
      " [[4 4]\n",
      "  [4 5]]\n",
      "\n",
      " [[5 4]\n",
      "  [4 5]]\n",
      "\n",
      " [[5 5]\n",
      "  [4 4]]\n",
      "\n",
      " [[4 4]\n",
      "  [4 5]]\n",
      "\n",
      " [[5 4]\n",
      "  [4 5]]\n",
      "\n",
      " [[5 5]\n",
      "  [4 5]]]\n"
     ]
    },
    {
     "data": {
      "text/plain": [
       "array([[[4, 4],\n",
       "        [4, 4]],\n",
       "\n",
       "       [[4, 4],\n",
       "        [4, 5]],\n",
       "\n",
       "       [[4, 4],\n",
       "        [5, 4]],\n",
       "\n",
       "       [[4, 5],\n",
       "        [4, 4]],\n",
       "\n",
       "       [[4, 5],\n",
       "        [4, 5]],\n",
       "\n",
       "       [[4, 5],\n",
       "        [5, 4]],\n",
       "\n",
       "       [[4, 5],\n",
       "        [5, 5]],\n",
       "\n",
       "       [[5, 4],\n",
       "        [4, 4]],\n",
       "\n",
       "       [[5, 4],\n",
       "        [4, 5]],\n",
       "\n",
       "       [[5, 4],\n",
       "        [5, 5]],\n",
       "\n",
       "       [[5, 5],\n",
       "        [4, 4]],\n",
       "\n",
       "       [[5, 5],\n",
       "        [4, 5]],\n",
       "\n",
       "       [[5, 5],\n",
       "        [5, 4]]])"
      ]
     },
     "execution_count": 202,
     "metadata": {},
     "output_type": "execute_result"
    }
   ],
   "source": [
    "X =  np.random.randint(4, 6, size=(n, 2, 2))\n",
    "print(X)\n",
    "get_unique_rows(X)"
   ]
  },
  {
   "cell_type": "markdown",
   "metadata": {},
   "source": [
    "# 3. Pandas & Visualization (4 points)\n"
   ]
  },
  {
   "cell_type": "markdown",
   "metadata": {},
   "source": [
    "You are going to work with *Titanic* dataset which contains information about passengers of Titanic:\n",
    "- **Survived** - 1 - survived, 0 - died (0); **Target variable**\n",
    "- **pclass** - passengers's class;\n",
    "- **sex** - passengers's sex\n",
    "- **Age** - passengers's age in years\n",
    "- **sibsp**    - is the passenger someones siblings   \n",
    "- **parch**    - is the passenger someones child or parent\n",
    "- **ticket** - ticket number    \n",
    "- **fare** - ticket price    \n",
    "- **cabin** - cabin number\n",
    "- **embarked** - port of Embarkation; C = Cherbourg, Q = Queenstown, S = Southampton\n",
    "\n",
    "**Note** for all visualizations use matplotlib or seaborn but NOT plotly! Plotly's graphics sometimes vanish after saving. In this case the task wont't be graded.\n",
    "\n",
    "**Note** support all your answers with necessary code, computations, vizualization, and explanation. Answers without code and explanation won't be graded.\n",
    "\n",
    "**Task 0** (0 points) \\\n",
    "Load the dataset"
   ]
  },
  {
   "cell_type": "code",
   "execution_count": 2,
   "metadata": {},
   "outputs": [
    {
     "data": {
      "text/html": [
       "<div>\n",
       "<style scoped>\n",
       "    .dataframe tbody tr th:only-of-type {\n",
       "        vertical-align: middle;\n",
       "    }\n",
       "\n",
       "    .dataframe tbody tr th {\n",
       "        vertical-align: top;\n",
       "    }\n",
       "\n",
       "    .dataframe thead th {\n",
       "        text-align: right;\n",
       "    }\n",
       "</style>\n",
       "<table border=\"1\" class=\"dataframe\">\n",
       "  <thead>\n",
       "    <tr style=\"text-align: right;\">\n",
       "      <th></th>\n",
       "      <th>Survived</th>\n",
       "      <th>Pclass</th>\n",
       "      <th>Name</th>\n",
       "      <th>Sex</th>\n",
       "      <th>Age</th>\n",
       "      <th>SibSp</th>\n",
       "      <th>Parch</th>\n",
       "      <th>Ticket</th>\n",
       "      <th>Fare</th>\n",
       "      <th>Cabin</th>\n",
       "      <th>Embarked</th>\n",
       "    </tr>\n",
       "    <tr>\n",
       "      <th>PassengerId</th>\n",
       "      <th></th>\n",
       "      <th></th>\n",
       "      <th></th>\n",
       "      <th></th>\n",
       "      <th></th>\n",
       "      <th></th>\n",
       "      <th></th>\n",
       "      <th></th>\n",
       "      <th></th>\n",
       "      <th></th>\n",
       "      <th></th>\n",
       "    </tr>\n",
       "  </thead>\n",
       "  <tbody>\n",
       "    <tr>\n",
       "      <th>1</th>\n",
       "      <td>0</td>\n",
       "      <td>3</td>\n",
       "      <td>Braund, Mr. Owen Harris</td>\n",
       "      <td>male</td>\n",
       "      <td>22.0</td>\n",
       "      <td>1</td>\n",
       "      <td>0</td>\n",
       "      <td>A/5 21171</td>\n",
       "      <td>7.2500</td>\n",
       "      <td>NaN</td>\n",
       "      <td>S</td>\n",
       "    </tr>\n",
       "    <tr>\n",
       "      <th>2</th>\n",
       "      <td>1</td>\n",
       "      <td>1</td>\n",
       "      <td>Cumings, Mrs. John Bradley (Florence Briggs Th...</td>\n",
       "      <td>female</td>\n",
       "      <td>38.0</td>\n",
       "      <td>1</td>\n",
       "      <td>0</td>\n",
       "      <td>PC 17599</td>\n",
       "      <td>71.2833</td>\n",
       "      <td>C85</td>\n",
       "      <td>C</td>\n",
       "    </tr>\n",
       "    <tr>\n",
       "      <th>3</th>\n",
       "      <td>1</td>\n",
       "      <td>3</td>\n",
       "      <td>Heikkinen, Miss. Laina</td>\n",
       "      <td>female</td>\n",
       "      <td>26.0</td>\n",
       "      <td>0</td>\n",
       "      <td>0</td>\n",
       "      <td>STON/O2. 3101282</td>\n",
       "      <td>7.9250</td>\n",
       "      <td>NaN</td>\n",
       "      <td>S</td>\n",
       "    </tr>\n",
       "  </tbody>\n",
       "</table>\n",
       "</div>"
      ],
      "text/plain": [
       "             Survived  Pclass  \\\n",
       "PassengerId                     \n",
       "1                   0       3   \n",
       "2                   1       1   \n",
       "3                   1       3   \n",
       "\n",
       "                                                          Name     Sex   Age  \\\n",
       "PassengerId                                                                    \n",
       "1                                      Braund, Mr. Owen Harris    male  22.0   \n",
       "2            Cumings, Mrs. John Bradley (Florence Briggs Th...  female  38.0   \n",
       "3                                       Heikkinen, Miss. Laina  female  26.0   \n",
       "\n",
       "             SibSp  Parch            Ticket     Fare Cabin Embarked  \n",
       "PassengerId                                                          \n",
       "1                1      0         A/5 21171   7.2500   NaN        S  \n",
       "2                1      0          PC 17599  71.2833   C85        C  \n",
       "3                0      0  STON/O2. 3101282   7.9250   NaN        S  "
      ]
     },
     "execution_count": 2,
     "metadata": {},
     "output_type": "execute_result"
    }
   ],
   "source": [
    "dataset = pd.read_csv(\"titanic.csv\", index_col=0)\n",
    "dataset.head(3)"
   ]
  },
  {
   "cell_type": "markdown",
   "metadata": {},
   "source": [
    "---\n",
    "**Task 1** (1 points) <br/>\n",
    "Answer the following questions:\n",
    "    \n",
    "    * Are there any missing values? In which columns?\n",
    "    * How many classes (pclass) were there on Tinanic?\n",
    "    * What is the percentage of survived passengers? Are the classes balanced?\n",
    "    * What is the average ticket fare?\n",
    "    * What was the most popular port of embarkation?\n",
    "Please, write not only the answers but the code, proving it."
   ]
  },
  {
   "cell_type": "code",
   "execution_count": 3,
   "metadata": {},
   "outputs": [
    {
     "name": "stdout",
     "output_type": "stream",
     "text": [
      "<class 'pandas.core.frame.DataFrame'>\n",
      "Int64Index: 891 entries, 1 to 891\n",
      "Data columns (total 11 columns):\n",
      " #   Column    Non-Null Count  Dtype  \n",
      "---  ------    --------------  -----  \n",
      " 0   Survived  891 non-null    int64  \n",
      " 1   Pclass    891 non-null    int64  \n",
      " 2   Name      891 non-null    object \n",
      " 3   Sex       891 non-null    object \n",
      " 4   Age       714 non-null    float64\n",
      " 5   SibSp     891 non-null    int64  \n",
      " 6   Parch     891 non-null    int64  \n",
      " 7   Ticket    891 non-null    object \n",
      " 8   Fare      891 non-null    float64\n",
      " 9   Cabin     204 non-null    object \n",
      " 10  Embarked  889 non-null    object \n",
      "dtypes: float64(2), int64(4), object(5)\n",
      "memory usage: 83.5+ KB\n",
      "\n",
      "Columns with null values:\n"
     ]
    },
    {
     "data": {
      "text/plain": [
       "Age         0.20\n",
       "Cabin       0.77\n",
       "Embarked    0.00\n",
       "dtype: float64"
      ]
     },
     "execution_count": 3,
     "metadata": {},
     "output_type": "execute_result"
    }
   ],
   "source": [
    "## >Are there any missing values? In which columns?\n",
    "\n",
    "dataset.info()\n",
    "print('\\nColumns with null values:')\n",
    "np.round(dataset.isna().sum()[dataset.isna().sum()>0] / dataset.shape[0], 2)\n",
    "\n",
    "## There are some, as we can see. \n",
    "## There are 891 rows and with the help of \"info\" function we can see\n",
    "## how many non-null values in rows correspond to each column.\n",
    "## We can count it with more precision and see that most information is missing from the \"cabin\" column (77%), \n",
    "## second is \"age\" (20%) and \"embarked\" column, which lacks 2 values."
   ]
  },
  {
   "cell_type": "code",
   "execution_count": 4,
   "metadata": {},
   "outputs": [
    {
     "name": "stdout",
     "output_type": "stream",
     "text": [
      "Number of classes on Titanic: 3\n"
     ]
    }
   ],
   "source": [
    "## >How many classes (pclass) were there on Tinanic?\n",
    "\n",
    "pclassColumn = dataset[\"Pclass\"]\n",
    "pclassColumnU = pclassColumn.unique()\n",
    "print(f'Number of classes on Titanic: {len(pclassColumnU)}')\n",
    "\n",
    "## We can determine the number of classes by \n",
    "## calling the \"unique\" function on the column, the result is 3."
   ]
  },
  {
   "cell_type": "code",
   "execution_count": 5,
   "metadata": {},
   "outputs": [
    {
     "name": "stdout",
     "output_type": "stream",
     "text": [
      "The percentage of survived passengers is 38.384%\n"
     ]
    }
   ],
   "source": [
    "## >What is the percentage of survived passengers? \n",
    "\n",
    "print(f'The percentage of survived passengers is {np.round(len(dataset[dataset[\"Survived\"]==1])*100 / dataset.shape[0],3)}%')\n",
    "\n",
    "## This is clearly unbalanced."
   ]
  },
  {
   "cell_type": "code",
   "execution_count": 7,
   "metadata": {},
   "outputs": [
    {
     "name": "stdout",
     "output_type": "stream",
     "text": [
      "Survived in 1st class: 62.963%\n",
      "Survived in 2nd class: 47.283%\n",
      "Survived in 3rd class: 24.236%\n"
     ]
    }
   ],
   "source": [
    "## >Are the classes balanced?\n",
    "class1 = dataset[dataset[\"Pclass\"] == 1]\n",
    "class2 = dataset[dataset[\"Pclass\"] == 2]\n",
    "class3 = dataset[dataset[\"Pclass\"] == 3]\n",
    "\n",
    "print(f'Survived in 1st class: {np.round(len(class1[class1[\"Survived\"]==1])*100 / class1.shape[0],3)}%')\n",
    "print(f'Survived in 2nd class: {np.round(len(class2[class2[\"Survived\"]==1])*100 / class2.shape[0],3)}%')\n",
    "print(f'Survived in 3rd class: {np.round(len(class3[class3[\"Survived\"]==1])*100 / class3.shape[0],3)}%')\n",
    "\n",
    "## No, the classes aren't balanced in survival. As we can see, the rate of survival is higher, the higher the class is."
   ]
  },
  {
   "cell_type": "code",
   "execution_count": 8,
   "metadata": {},
   "outputs": [
    {
     "name": "stdout",
     "output_type": "stream",
     "text": [
      "In class 1 there were 216 passengers\n",
      "In class 2 there were 184 passengers\n",
      "In class 3 there were 491 passengers\n"
     ]
    }
   ],
   "source": [
    "## (Also i thought this question might refer to the sizes of classes themselves, so i counted it as well just in case)\n",
    "\n",
    "print(f'In class 1 there were {len(class1)} passengers')\n",
    "print(f'In class 2 there were {len(class2)} passengers')\n",
    "print(f'In class 3 there were {len(class3)} passengers')\n",
    "\n",
    "## So, the classes aren't balanced, the 3rd is the largest, the 1st is more than by half smaller\n",
    "## and the 2nd is a little smaller than the 1st"
   ]
  },
  {
   "cell_type": "code",
   "execution_count": 9,
   "metadata": {},
   "outputs": [
    {
     "name": "stdout",
     "output_type": "stream",
     "text": [
      "The average ticket fare is 32.204\n"
     ]
    }
   ],
   "source": [
    "## >What is the average ticket fare?\n",
    "\n",
    "print(f'The average ticket fare is {np.round(np.sum(dataset[\"Fare\"]) / dataset.shape[0],3)}')"
   ]
  },
  {
   "cell_type": "code",
   "execution_count": 9,
   "metadata": {
    "scrolled": true
   },
   "outputs": [
    {
     "name": "stdout",
     "output_type": "stream",
     "text": [
      "77 passengers embarked in port Q\n",
      "168 passengers embarked in port C\n",
      "644 passengers embarked in port S\n",
      "\n",
      "The port where most passengers embarked is S\n"
     ]
    }
   ],
   "source": [
    "## >What was the most popular port of embarkation?\n",
    "\n",
    "portQ = dataset[dataset[\"Embarked\"] == 'Q']\n",
    "portC = dataset[dataset[\"Embarked\"] == 'C']\n",
    "portS = dataset[dataset[\"Embarked\"] == 'S']\n",
    "\n",
    "print(f'{len(portQ)} passengers embarked in port Q')\n",
    "print(f'{len(portC)} passengers embarked in port C')\n",
    "print(f'{len(portS)} passengers embarked in port S')\n",
    "\n",
    "print(f'\\nThe port where most passengers embarked is {max([portQ, portC, portS], key=lambda x: len(x))[\"Embarked\"][1]}')\n",
    "\n",
    "## And S stands for Southampton, therefore Southampton is the most popular port of embarkation."
   ]
  },
  {
   "cell_type": "markdown",
   "metadata": {},
   "source": [
    "---\n",
    "**Task 2** (1 points) <br/>\n",
    "Find all the titles of the passengers (example, *Capt., Mr.,Mme.*), which are written in the column `Name`, and answer the following questions:\n",
    "\n",
    "    * How many are there unique titles?\n",
    "    * How many are there passengers with every title?\n",
    "    * What is the most popular man's title? And woman's title?\n",
    "    \n",
    "**Hint** You may select the title from the name as a word which contains a dot."
   ]
  },
  {
   "cell_type": "code",
   "execution_count": 10,
   "metadata": {},
   "outputs": [
    {
     "name": "stdout",
     "output_type": "stream",
     "text": [
      "There are 17 unique titles: ['Mr.' 'Mrs.' 'Miss.' 'Master.' 'Don.' 'Rev.' 'Dr.' 'Mme.' 'Ms.' 'Major.'\n",
      " 'Lady.' 'Sir.' 'Mlle.' 'Col.' 'Capt.' 'Countess.' 'Jonkheer.']\n"
     ]
    }
   ],
   "source": [
    "## >How many are there unique titles\n",
    "\n",
    "wTitles =  dataset[dataset[\"Name\"].str.find('.')>-1]\n",
    "names = dataset.iloc[:, 2:3]\n",
    "titles = names[\"Name\"].str.extract(r' ([a-zA-Z]+\\.) ')\n",
    "\n",
    "print(f'There are {titles[0].nunique()} unique titles: {titles[0].unique()}')"
   ]
  },
  {
   "cell_type": "code",
   "execution_count": 96,
   "metadata": {},
   "outputs": [
    {
     "name": "stdout",
     "output_type": "stream",
     "text": [
      "The titles and their numbers:\n"
     ]
    },
    {
     "data": {
      "text/plain": [
       "Mr.          517\n",
       "Miss.        182\n",
       "Mrs.         125\n",
       "Master.       40\n",
       "Dr.            7\n",
       "Rev.           6\n",
       "Major.         2\n",
       "Col.           2\n",
       "Mlle.          2\n",
       "Mme.           1\n",
       "Ms.            1\n",
       "Capt.          1\n",
       "Lady.          1\n",
       "Jonkheer.      1\n",
       "Don.           1\n",
       "Countess.      1\n",
       "Sir.           1\n",
       "dtype: int64"
      ]
     },
     "execution_count": 96,
     "metadata": {},
     "output_type": "execute_result"
    }
   ],
   "source": [
    "## >How many are there passengers with every title?\n",
    "\n",
    "print('The titles and their numbers:')\n",
    "titles.value_counts()"
   ]
  },
  {
   "cell_type": "code",
   "execution_count": 207,
   "metadata": {},
   "outputs": [
    {
     "name": "stdout",
     "output_type": "stream",
     "text": [
      "The most popular title among men is  Mr.\n",
      "The most popular title among women is  Miss.\n"
     ]
    }
   ],
   "source": [
    "## >What is the most popular man's title? And woman's title?\n",
    "\n",
    "titlesAndSex = pd.concat([titles, dataset[\"Sex\"]], axis= 1 )\n",
    "print(\"The most popular title among men is \", titlesAndSex[titlesAndSex[\"Sex\"] == 'male'][0].value_counts().idxmax())\n",
    "print(\"The most popular title among women is \", titlesAndSex[titlesAndSex[\"Sex\"] == 'female'][0].value_counts().idxmax())"
   ]
  },
  {
   "cell_type": "markdown",
   "metadata": {},
   "source": [
    "---\n",
    "**Task 3** (0.5 points) <br/>\n",
    "Visualize age distribution (you may use a histogram, for example). \n",
    "\n",
    "    * What is the minimal and maximum ages of the passengers? Visualize it on the plot\n",
    "    * What is the mean age? Visualize it on the plot\n",
    "    * Make conclusions about what you see on the plot"
   ]
  },
  {
   "cell_type": "code",
   "execution_count": 208,
   "metadata": {},
   "outputs": [
    {
     "name": "stdout",
     "output_type": "stream",
     "text": [
      "Minimal and maximal ages of the passengers are 0.42 and 80.0\n"
     ]
    },
    {
     "data": {
      "image/png": "[encoded data removed]",
      "text/plain": [
       "<Figure size 432x288 with 1 Axes>"
      ]
     },
     "metadata": {
      "needs_background": "light"
     },
     "output_type": "display_data"
    }
   ],
   "source": [
    "## >What is the minimal and maximum ages of the passengers? Visualize it on the plot\n",
    "\n",
    "dataset[\"Age\"].hist(bins=20)\n",
    "min = np.min(dataset[\"Age\"])\n",
    "max = np.max(dataset[\"Age\"])\n",
    "print(f'Minimal and maximal ages of the passengers are {min} and {max}')\n",
    "plt.plot((min, min), (0, 100))\n",
    "plt.plot((max, max), (0, 100))\n",
    "plt.show()"
   ]
  },
  {
   "cell_type": "code",
   "execution_count": 209,
   "metadata": {},
   "outputs": [
    {
     "name": "stdout",
     "output_type": "stream",
     "text": [
      "Mean age is 29.69911764705882\n"
     ]
    },
    {
     "data": {
      "image/png": "[encoded data removed]",
      "text/plain": [
       "<Figure size 432x288 with 1 Axes>"
      ]
     },
     "metadata": {
      "needs_background": "light"
     },
     "output_type": "display_data"
    }
   ],
   "source": [
    "## >What is the mean age? Visualize it on the plot\n",
    "\n",
    "dataset[\"Age\"].hist(bins=20)\n",
    "mean = np.mean(dataset[\"Age\"])\n",
    "print(f'Mean age is {mean}')\n",
    "plt.plot((mean, mean), (0, 100))\n",
    "plt.show()"
   ]
  },
  {
   "cell_type": "code",
   "execution_count": null,
   "metadata": {},
   "outputs": [],
   "source": [
    "## >Make conclusions about what you see on the plot\n",
    "\n",
    "## The distribution looks a bit like chi-square (or normal but with a lot more outliers) \n",
    "## but it is clearly disbalanced to the right, there seemed to be quite a lot of children below the age of five,\n",
    "## mainly there were young adults."
   ]
  },
  {
   "cell_type": "markdown",
   "metadata": {},
   "source": [
    "---\n",
    "**Task 4** (0.5 points) <br/>\n",
    "Visualize age distribution for survived and not survived passengers separately and calculate the mean age for each class. Are they different? Make conclusions about what you see on the plot"
   ]
  },
  {
   "cell_type": "code",
   "execution_count": 210,
   "metadata": {},
   "outputs": [
    {
     "name": "stdout",
     "output_type": "stream",
     "text": [
      "Mean age for the survivors is 28.343689655172415 and for the non-survivors is 30.62617924528302\n"
     ]
    },
    {
     "data": {
      "image/png": "[encoded data removed]",
      "text/plain": [
       "<Figure size 432x288 with 1 Axes>"
      ]
     },
     "metadata": {
      "needs_background": "light"
     },
     "output_type": "display_data"
    }
   ],
   "source": [
    "## I didn't exactly understand whether 'class' here refers to plasses or 'survived' and 'not survived',\n",
    "## so, once again, i plotted both\n",
    "\n",
    "sns.histplot(x=\"Age\", hue=\"Survived\", data=dataset, multiple=\"dodge\")\n",
    "\n",
    "meanSurvive = np.mean(dataset[dataset[\"Survived\"]== 1][\"Age\"])\n",
    "meanNotSurvive = np.mean(dataset[dataset[\"Survived\"]== 0][\"Age\"])\n",
    "\n",
    "print(f'Mean age for the survivors is {meanSurvive} and for the non-survivors is {meanNotSurvive}')\n",
    "\n",
    "plt.plot((meanSurvive, meanSurvive), (0, 60), 'C1')\n",
    "plt.plot((meanNotSurvive, meanNotSurvive), (0, 60), 'C0')\n",
    "plt.show()\n",
    "\n",
    "## Here are categories and means for ages of passengers who survived and those who did not\n",
    "## It seems that mean age doesn't differ much and in both cases is close to the general mean age\n",
    "## Also it shows that mostly the distributions of survivors and non-survivors are alike with the exception that\n",
    "## small children were more likely to survive than to die, and young adults (~ 18-30) were more likely to die than to live\n",
    "## For everyone else the chances are pretty much equal and probably don't depend on age."
   ]
  },
  {
   "cell_type": "code",
   "execution_count": 155,
   "metadata": {},
   "outputs": [
    {
     "name": "stdout",
     "output_type": "stream",
     "text": [
      "Mean age for the 1st class is 38.233440860215055\n",
      "Mean age for the 2nd class is 29.87763005780347\n",
      "Mean age for the 3rd class is 25.14061971830986\n"
     ]
    },
    {
     "data": {
      "image/png": "[encoded data removed]",
      "text/plain": [
       "<Figure size 432x288 with 1 Axes>"
      ]
     },
     "metadata": {
      "needs_background": "light"
     },
     "output_type": "display_data"
    }
   ],
   "source": [
    "sns.histplot(x=\"Age\", hue=\"Survived\", data=dataset, multiple=\"dodge\")\n",
    "mean1 = np.mean(dataset[dataset[\"Pclass\"]== 1][\"Age\"])\n",
    "mean2 = np.mean(dataset[dataset[\"Pclass\"]== 2][\"Age\"])\n",
    "mean3 = np.mean(dataset[dataset[\"Pclass\"]== 3][\"Age\"])\n",
    "\n",
    "print(f'Mean age for the 1st class is {mean1}')\n",
    "print(f'Mean age for the 2nd class is {mean2}')\n",
    "print(f'Mean age for the 3rd class is {mean3}')\n",
    "plt.plot((mean1, mean1), (0, 60), 'g', label = '1st class')\n",
    "plt.plot((mean2, mean2), (0, 60), 'y', label = '2nd class')\n",
    "plt.plot((mean3, mean3), (0, 60), 'r', label = '3rd class')\n",
    "plt.show()\n",
    "\n",
    "## Here are categories for ages of passengers who survived and those who did not and means for pclasses\n",
    "## As we can see, mean for the 1st class lies further to the left, probably because older people are richer, \n",
    "## and a lot of people in lower pclasses were young working-class passengers\n",
    "## Also this in some way illustrates the rates of survival for classes: \n",
    "## the mean for 3rd class lies in the age category where the chance of survival is almost \n",
    "## two times less than the chance of death, and the percentage of survivors there was 24%\n",
    "## For the 2nd class the mean age is in the age group where the difference in chances is smaller,\n",
    "## but still death is more likely, and 47% survived\n",
    "## The 1st class mean age is in the age group where life and death are almost equal in chance, 63% of survivors"
   ]
  },
  {
   "cell_type": "markdown",
   "metadata": {},
   "source": [
    "---\n",
    "**Task 5** (0.5 points) <br/>\n",
    "Is there correlation between the port of embarkation and the ticket price? Calculate mean price for each port and visualize price distribution for each port. Make conclusions about what you see on the plot\n",
    "\n",
    "Hint: you could make one or several plot types i.e.  box, violine, pair, histogram (see additional notebooks for Seminar 1 \"Visualization with Seaborn\"). The main point here is to **choose** plots wisely and **make meaningful conclusions**\n",
    "\n"
   ]
  },
  {
   "cell_type": "code",
   "execution_count": 211,
   "metadata": {},
   "outputs": [
    {
     "name": "stdout",
     "output_type": "stream",
     "text": [
      "Mean fare for the Queenstown's port is 13.276029870129872\n",
      "Mean fare for the Southampton's port is 27.07981180124218\n",
      "Mean fare for the Cherbourg's port is 59.95414404761905\n"
     ]
    },
    {
     "data": {
      "image/png": "[encoded data removed]",
      "text/plain": [
       "<Figure size 432x288 with 1 Axes>"
      ]
     },
     "metadata": {
      "needs_background": "light"
     },
     "output_type": "display_data"
    }
   ],
   "source": [
    "meanQ = np.mean(dataset[dataset[\"Embarked\"]== 'Q'][\"Fare\"])\n",
    "meanS = np.mean(dataset[dataset[\"Embarked\"]== 'S'][\"Fare\"])\n",
    "meanC = np.mean(dataset[dataset[\"Embarked\"]== 'C'][\"Fare\"])\n",
    "\n",
    "print(f'Mean fare for the Queenstown\\'s port is {meanQ}')\n",
    "print(f'Mean fare for the Southampton\\'s port is {meanS}')\n",
    "print(f'Mean fare for the Cherbourg\\'s port is {meanC}')\n",
    "\n",
    "\n",
    "sns.violinplot(x= dataset.Embarked, y=dataset.Fare)\n",
    "plt.show()\n",
    "\n",
    "## Just by the means we can suppose that Cherbourg was the most expensive port to buy tickets and Queenstown was the cheapest\n",
    "## However the violin plots show that Cherbourg had some huge outliers (three tickets for 512 each)."
   ]
  },
  {
   "cell_type": "markdown",
   "metadata": {},
   "source": [
    "---\n",
    "**Task 6** (0.5 points) <br/>\n",
    "The same question as in task 5 about correlation between *pclass* and *ticket priсe*."
   ]
  },
  {
   "cell_type": "code",
   "execution_count": 212,
   "metadata": {},
   "outputs": [
    {
     "name": "stdout",
     "output_type": "stream",
     "text": [
      "Firstly, we can calculate the correlation itself: -0.5494996199439077\n",
      "Mean fare for the 1st class is 84.15468749999992\n",
      "Mean fare for the 2nd class is 20.66218315217391\n",
      "Mean fare for the 3rd class is 13.675550101832997\n"
     ]
    },
    {
     "data": {
      "image/png": "[encoded data removed]",
      "text/plain": [
       "<Figure size 432x288 with 1 Axes>"
      ]
     },
     "metadata": {
      "needs_background": "light"
     },
     "output_type": "display_data"
    }
   ],
   "source": [
    "## You code here\n",
    "\n",
    "print(f'Firstly, we can calculate the correlation itself: {dataset.Pclass.corr(dataset.Fare)}')\n",
    "\n",
    "mean1 = np.mean(dataset[dataset[\"Pclass\"]== 1][\"Fare\"])\n",
    "mean2 = np.mean(dataset[dataset[\"Pclass\"]== 2][\"Fare\"])\n",
    "mean3 = np.mean(dataset[dataset[\"Pclass\"]== 3][\"Fare\"])\n",
    "\n",
    "print(f'Mean fare for the 1st class is {mean1}')\n",
    "print(f'Mean fare for the 2nd class is {mean2}')\n",
    "print(f'Mean fare for the 3rd class is {mean3}')\n",
    "\n",
    "\n",
    "sns.violinplot(x= dataset.Pclass, y=dataset.Fare)\n",
    "plt.show()\n",
    "\n",
    "## The correlation is rather clear, 1st class being the most expensive and 3rd the cheapest, then again the three super\n",
    "## expensive tickets are in the 1st class statistics as well."
   ]
  },
  {
   "cell_type": "code",
   "execution_count": null,
   "metadata": {},
   "outputs": [],
   "source": [
    "## У меня возник некоторый вопрос про историю создания этого датасета и репрезентативность всего, что связано с \n",
    "## информацией про возраст выживших. Погуглив человека, которому было 80,(Algernon Henry Barkworth) я обнаружила, \n",
    "## что 80 лет ему было не на момент катастрофы, а в 1947 году, когда он умер по естественным причинам, \n",
    "## на момент же путешествия на Титанике ему было 45.\n",
    "## В то же время погуглив другую выжившую пассажирку (Virginia Ethel Emanuel) я обнаружила, \n",
    "## что ее возраст (5 лет) - все-таки примерно возраст в момент плавания, так как дальнейшая ее судьба не известна,\n",
    "## хотя она и выжила.\n",
    "## Получается, категория возраста вообще репрезентативна только для тех, кто погиб? Для выживших это может быть как \n",
    "## возраст тогда, так и их возраст на момент смерти, не связанной с Титаником. Как тогда анализировать происходящее?\n",
    "## Не знаю, где я ожидаю узнать ответ на эти вопросы, но в любом случае хочу сказать, что задание очень интересное, \n",
    "## пробуждает любопытство, спасибо большое))"
   ]
  }
 ],
 "metadata": {
  "kernelspec": {
   "display_name": "Python 3 (ipykernel)",
   "language": "python",
   "name": "python3"
  },
  "language_info": {
   "codemirror_mode": {
    "name": "ipython",
    "version": 3
   },
   "file_extension": ".py",
   "mimetype": "text/x-python",
   "name": "python",
   "nbconvert_exporter": "python",
   "pygments_lexer": "ipython3",
   "version": "3.8.8"
  }
 },
 "nbformat": 4,
 "nbformat_minor": 4
}
